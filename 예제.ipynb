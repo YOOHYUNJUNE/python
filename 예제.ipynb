{
 "cells": [
  {
   "cell_type": "code",
   "execution_count": 13,
   "id": "f9593648-9638-4cae-8fef-eb90652df416",
   "metadata": {},
   "outputs": [
    {
     "name": "stdout",
     "output_type": "stream",
     "text": [
      "10\n"
     ]
    }
   ],
   "source": [
    "# 한 자 2cm\n",
    "# message를 적기 위한 최소 가로 길이 : 문자*2\n",
    "# 공백도 하나의 문자\n",
    "\n",
    "def solution(message):\n",
    "    return len(message)*2\n",
    "\n",
    "print(solution('안녕하세요'))"
   ]
  },
  {
   "cell_type": "code",
   "execution_count": 31,
   "id": "d112961c-502f-48f7-b952-4c0a28ec03de",
   "metadata": {},
   "outputs": [
    {
     "name": "stdout",
     "output_type": "stream",
     "text": [
      "1\n"
     ]
    }
   ],
   "source": [
    "# 피자 7조각\n",
    "# 사람 수 n\n",
    "# 모든 사람이 한 조각 이상 먹을 때 피자 수\n",
    "\n",
    "# 1~7명 : 1 판 n - 0~6\n",
    "# 8~14명 : 2 판 n + 1~7\n",
    "# 피자 판 수 // 사람 * 7\n",
    "\n",
    "# n = 사람 수\n",
    "\n",
    "def solution(n):\n",
    "    return (n-1) // 7 + 1\n",
    "\n",
    "print(solution(7))"
   ]
  },
  {
   "cell_type": "code",
   "execution_count": 32,
   "id": "2bca18c8-0f18-4a7a-842c-51b9fe35c0c0",
   "metadata": {},
   "outputs": [
    {
     "name": "stdout",
     "output_type": "stream",
     "text": [
      "[4, 3000]\n"
     ]
    }
   ],
   "source": [
    "# 아아 5,500\n",
    "# 소지금 money\n",
    "# [살 수 있는 아아의 잔 수, 남는 돈]\n",
    "# money - 5500\n",
    "#money:25,000 = 25000*5500= 4 (아아 잔 수) , 25000-(5500*4) (남는 돈)\n",
    "# n // 5500, n % 5500\n",
    "\n",
    "def solution(money):\n",
    "    return [money // 5500, money % 5500]\n",
    "\n",
    "print(solution(25000))"
   ]
  },
  {
   "cell_type": "code",
   "execution_count": null,
   "id": "3bac261c-322f-4a6a-9056-55b18aabc08e",
   "metadata": {},
   "outputs": [],
   "source": [
    "# 삼각형 만들기\n",
    "# 가장 긴 변의 길이는 다른 두 변의 길이의 합보다 작아야\n",
    "# a < b + c\n",
    "# side : [a, b, c]\n",
    "#세 변 배열 sides, 삼각형 가능하면 1, 불가능 하면 2\n",
    "\n",
    "def solution(sides):\n",
    "   if side"
   ]
  },
  {
   "cell_type": "code",
   "execution_count": null,
   "id": "9c31b70d-5283-4354-83ab-f0e6a7af141a",
   "metadata": {},
   "outputs": [],
   "source": []
  },
  {
   "cell_type": "code",
   "execution_count": null,
   "id": "0b8ee6c1-b0ce-422b-aa42-9004b893c358",
   "metadata": {},
   "outputs": [],
   "source": []
  },
  {
   "cell_type": "code",
   "execution_count": null,
   "id": "dde10f26-073f-47b9-84a0-ee1e9d6f10a5",
   "metadata": {},
   "outputs": [],
   "source": []
  },
  {
   "cell_type": "code",
   "execution_count": null,
   "id": "154965c2-0834-49cb-b192-46988ac2d599",
   "metadata": {},
   "outputs": [],
   "source": []
  },
  {
   "cell_type": "code",
   "execution_count": null,
   "id": "8042b630-ee83-4c20-b8b9-fb530931f8fa",
   "metadata": {},
   "outputs": [],
   "source": []
  },
  {
   "cell_type": "code",
   "execution_count": null,
   "id": "0f437983-0c76-4d49-9940-ff4a7593c62c",
   "metadata": {},
   "outputs": [],
   "source": []
  },
  {
   "cell_type": "code",
   "execution_count": null,
   "id": "9d2ebf32-bd55-427a-962c-60237e5b37e6",
   "metadata": {},
   "outputs": [],
   "source": []
  },
  {
   "cell_type": "code",
   "execution_count": null,
   "id": "9ed95c03-d9a4-46a1-8de5-0119c2216f8f",
   "metadata": {},
   "outputs": [],
   "source": []
  },
  {
   "cell_type": "code",
   "execution_count": null,
   "id": "95a18113-7f9c-406d-a0c7-d996ad09a348",
   "metadata": {},
   "outputs": [],
   "source": []
  },
  {
   "cell_type": "code",
   "execution_count": null,
   "id": "ee441352-df07-455d-91c2-e8c9c6b7318a",
   "metadata": {},
   "outputs": [],
   "source": []
  },
  {
   "cell_type": "code",
   "execution_count": null,
   "id": "7b6f7536-c2c4-485e-87ca-935e965769fc",
   "metadata": {},
   "outputs": [],
   "source": []
  }
 ],
 "metadata": {
  "kernelspec": {
   "display_name": "Python 3 (ipykernel)",
   "language": "python",
   "name": "python3"
  },
  "language_info": {
   "codemirror_mode": {
    "name": "ipython",
    "version": 3
   },
   "file_extension": ".py",
   "mimetype": "text/x-python",
   "name": "python",
   "nbconvert_exporter": "python",
   "pygments_lexer": "ipython3",
   "version": "3.11.4"
  }
 },
 "nbformat": 4,
 "nbformat_minor": 5
}
