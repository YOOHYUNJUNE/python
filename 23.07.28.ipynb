{
 "cells": [
  {
   "cell_type": "markdown",
   "id": "d2901c51-6ee2-4d41-a299-d7d95467bea3",
   "metadata": {},
   "source": [
    "# 23.07.28"
   ]
  },
  {
   "cell_type": "code",
   "execution_count": 27,
   "id": "2d2088fa-6a24-45c5-a58b-739ee6e5bc15",
   "metadata": {},
   "outputs": [
    {
     "name": "stdout",
     "output_type": "stream",
     "text": [
      "[1, 2, 3, (4, 5, 6), [10], 20]\n",
      "<class 'list'>\n",
      "<class 'tuple'>\n",
      "<class 'list'>\n",
      "<class 'int'>\n"
     ]
    }
   ],
   "source": [
    "# .append\n",
    "\n",
    "list1 = [1, 2, 3]\n",
    "list2 = (4, 5, 6)\n",
    "list3 = [10]\n",
    "list4 = (20)\n",
    "list1.append(list2)\n",
    "list1.append(list3)\n",
    "list1.append(list4)\n",
    "\n",
    "print(list1)\n",
    "print(type(list1))\n",
    "print(type(list2))\n",
    "print(type(list3))\n",
    "print(type(list4))"
   ]
  },
  {
   "cell_type": "code",
   "execution_count": 29,
   "id": "b9136c54-b0ff-4d86-b99d-30bfcf1a1f6e",
   "metadata": {},
   "outputs": [
    {
     "name": "stdout",
     "output_type": "stream",
     "text": [
      "[1, 2, 3, 4, 5, 6]\n"
     ]
    }
   ],
   "source": [
    "# .extend\n",
    "\n",
    "list1 = [1, 2, 3]\n",
    "list2 = (4, 5, 6)\n",
    "list3 = [10]\n",
    "list4 = (20)\n",
    "list1.extend(list2)\n",
    "\n",
    "print(list1)"
   ]
  },
  {
   "cell_type": "code",
   "execution_count": 63,
   "id": "cddb1b9e-1a29-421f-99bb-77c76c85e1ce",
   "metadata": {},
   "outputs": [
    {
     "name": "stdout",
     "output_type": "stream",
     "text": [
      "{'서울': 3, '부산': 2, '대전': 1, '제주': 1, '광주': 1, 'LA': 1, '도쿄': 1, '경기': 1}\n",
      "['LA', '경기', '광주', '대전', '도쿄', '부산', '서울', '제주']\n",
      "<class 'str'>\n",
      "<class 'list'>\n",
      "<class 'dict'>\n"
     ]
    }
   ],
   "source": [
    "location_list = ['서울', '부산', '서울', '서울', '대전', '제주', '광주', '부산', 'LA', '도쿄', '경기']\n",
    "location_dict = {}\n",
    "\n",
    "for location in location_list:\n",
    "    if location in location_dict.keys():\n",
    "        location_dict[location] += 1\n",
    "    else:\n",
    "        location_dict[location] = 1\n",
    "\n",
    "location_list.sort()\n",
    "\n",
    "print(location_dict)\n",
    "print(sorted(location_dict))\n",
    "print(type(location))\n",
    "print(type(location_list))\n",
    "print(type(location_dict))"
   ]
  },
  {
   "cell_type": "code",
   "execution_count": 55,
   "id": "af8b325b-395f-4ae3-803b-40d2bffc9e22",
   "metadata": {},
   "outputs": [
    {
     "name": "stdout",
     "output_type": "stream",
     "text": [
      "[1, 2, 3, 4, 5, 8, 10, 99]\n"
     ]
    }
   ],
   "source": [
    "ab = [3, 2, 8, 4, 1, 10, 99, 5]\n",
    "ab.sort()\n",
    "\n",
    "print(ab)"
   ]
  },
  {
   "cell_type": "code",
   "execution_count": 67,
   "id": "465fdfe9-8fe8-49ae-bf96-961918b85d53",
   "metadata": {},
   "outputs": [
    {
     "name": "stdout",
     "output_type": "stream",
     "text": [
      "{'A': 3, 'O': 3, 'B': 2, 'AB': 2}\n"
     ]
    }
   ],
   "source": [
    "data = ['A', 'A', 'A', 'O', 'B', 'B', 'O', 'AB', 'AB', 'O']\n",
    "\n",
    "result = {}\n",
    "\n",
    "for blood_type in data:\n",
    "    if blood_type in result:\n",
    "        result[blood_type] += 1\n",
    "    else:\n",
    "        result[blood_type] = 1\n",
    "\n",
    "print(result)"
   ]
  },
  {
   "cell_type": "code",
   "execution_count": 77,
   "id": "88b52a51-51fa-49f5-b234-60291f387bfe",
   "metadata": {},
   "outputs": [
    {
     "name": "stdin",
     "output_type": "stream",
     "text": [
      " 1\n"
     ]
    },
    {
     "name": "stdout",
     "output_type": "stream",
     "text": [
      "크리스마스가 아님\n"
     ]
    }
   ],
   "source": [
    "my_string = input()\n",
    "\n",
    "if my_string == '12/25':\n",
    "    print('크리스마스')\n",
    "else:\n",
    "    print('크리스마스가 아님')"
   ]
  },
  {
   "cell_type": "code",
   "execution_count": 78,
   "id": "8ce63eb7-59f7-455f-b79c-52ccc2ce2831",
   "metadata": {},
   "outputs": [
    {
     "name": "stdin",
     "output_type": "stream",
     "text": [
      "숫자를 입력하세요 1\n"
     ]
    },
    {
     "name": "stdout",
     "output_type": "stream",
     "text": [
      "1\n"
     ]
    }
   ],
   "source": [
    "num = input('숫자를 입력하세요')\n",
    "print(num)"
   ]
  },
  {
   "cell_type": "code",
   "execution_count": null,
   "id": "614277fb-3b8c-41df-a8dd-7fd85518bc99",
   "metadata": {},
   "outputs": [],
   "source": []
  },
  {
   "cell_type": "code",
   "execution_count": null,
   "id": "7b0dfb40-c465-420f-b4e2-df41da864d82",
   "metadata": {},
   "outputs": [],
   "source": []
  },
  {
   "cell_type": "code",
   "execution_count": null,
   "id": "c62c5183-48b7-4fce-9645-2b6848cc4ec2",
   "metadata": {},
   "outputs": [],
   "source": []
  },
  {
   "cell_type": "code",
   "execution_count": null,
   "id": "47fa5695-aaab-4611-af42-a807b3e56f9f",
   "metadata": {},
   "outputs": [],
   "source": []
  },
  {
   "cell_type": "code",
   "execution_count": null,
   "id": "a481f918-f131-41a0-8f56-e8790d8405b8",
   "metadata": {},
   "outputs": [],
   "source": []
  },
  {
   "cell_type": "code",
   "execution_count": null,
   "id": "9c1197ad-878d-4ac6-b8ab-fd374ec690d4",
   "metadata": {},
   "outputs": [],
   "source": []
  },
  {
   "cell_type": "code",
   "execution_count": null,
   "id": "6157f511-81c2-4493-9484-49a7afce3241",
   "metadata": {},
   "outputs": [],
   "source": []
  },
  {
   "cell_type": "code",
   "execution_count": null,
   "id": "57778efc-fb6a-4183-b7f6-fa89ac2320ec",
   "metadata": {},
   "outputs": [],
   "source": []
  },
  {
   "cell_type": "code",
   "execution_count": null,
   "id": "5fad759d-7d8d-40d1-bddd-18ef1bcbbd85",
   "metadata": {},
   "outputs": [],
   "source": []
  }
 ],
 "metadata": {
  "kernelspec": {
   "display_name": "Python 3 (ipykernel)",
   "language": "python",
   "name": "python3"
  },
  "language_info": {
   "codemirror_mode": {
    "name": "ipython",
    "version": 3
   },
   "file_extension": ".py",
   "mimetype": "text/x-python",
   "name": "python",
   "nbconvert_exporter": "python",
   "pygments_lexer": "ipython3",
   "version": "3.11.4"
  }
 },
 "nbformat": 4,
 "nbformat_minor": 5
}
