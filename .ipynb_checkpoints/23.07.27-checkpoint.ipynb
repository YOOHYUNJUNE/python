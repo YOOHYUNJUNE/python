{
 "cells": [
  {
   "cell_type": "code",
   "execution_count": 9,
   "id": "e6507dfe-8121-453a-b2f7-61833a02d963",
   "metadata": {},
   "outputs": [
    {
     "name": "stdout",
     "output_type": "stream",
     "text": [
      "True\n"
     ]
    }
   ],
   "source": [
    "numbers = [1, 3, 5, 7, 9]\n",
    "target = 1\n",
    "\n",
    "for number in numbers:\n",
    "    if number == target:\n",
    "        print('True')\n",
    "        break\n",
    "        # break는 [True]이어야 실행, else로 넘어가지 않음\n",
    "else:\n",
    "    print('False')"
   ]
  },
  {
   "cell_type": "code",
   "execution_count": 33,
   "id": "5658f32f-44ba-4952-9aa8-f9f05125b9e4",
   "metadata": {},
   "outputs": [],
   "source": [
    "class Dog():\n",
    "    pass\n",
    "\n",
    "d1 = Dog()\n",
    "d2 = Dog()"
   ]
  },
  {
   "cell_type": "code",
   "execution_count": 34,
   "id": "c7d51bf6-1f79-4e89-99f4-6d92f2d8fee4",
   "metadata": {},
   "outputs": [
    {
     "name": "stdout",
     "output_type": "stream",
     "text": [
      "<__main__.Dog object at 0x000001C10C57B610>\n",
      "<__main__.Dog object at 0x000001C10C024310>\n"
     ]
    }
   ],
   "source": [
    "print(d1)\n",
    "print(d2)"
   ]
  },
  {
   "cell_type": "code",
   "execution_count": 35,
   "id": "1d35f28d-f21b-4cca-8871-6f68e9d71cf8",
   "metadata": {},
   "outputs": [
    {
     "data": {
      "text/plain": [
       "False"
      ]
     },
     "execution_count": 35,
     "metadata": {},
     "output_type": "execute_result"
    }
   ],
   "source": [
    "d1 is d2"
   ]
  },
  {
   "cell_type": "code",
   "execution_count": null,
   "id": "0c985308-bde1-4e27-9e7d-13e1647b29ba",
   "metadata": {},
   "outputs": [],
   "source": []
  },
  {
   "cell_type": "code",
   "execution_count": null,
   "id": "2e634673-44ef-43f4-8225-d589480a139e",
   "metadata": {},
   "outputs": [],
   "source": []
  },
  {
   "cell_type": "markdown",
   "id": "b33662b4-83f6-4ee9-8ed6-beadd9f6a2d7",
   "metadata": {},
   "source": [
    "# 대문자, 소문자 구분하기\n",
    "\n"
   ]
  },
  {
   "cell_type": "code",
   "execution_count": 14,
   "id": "22cd49e7-c204-4971-94ac-e0c89b643a17",
   "metadata": {},
   "outputs": [
    {
     "name": "stdin",
     "output_type": "stream",
     "text": [
      " p\n"
     ]
    },
    {
     "name": "stdout",
     "output_type": "stream",
     "text": [
      "p 는 소문자 입니다.\n"
     ]
    }
   ],
   "source": [
    "char = input()\n",
    "\n",
    "if char. isupper():\n",
    "    print(f'{char} 는 대문자 입니다.')\n",
    "else:\n",
    "    print(f'{char} 는 소문자 입니다.')"
   ]
  },
  {
   "cell_type": "code",
   "execution_count": null,
   "id": "66aa1b8f-94c0-4638-bedc-7be7e3e2444b",
   "metadata": {},
   "outputs": [],
   "source": []
  },
  {
   "cell_type": "markdown",
   "id": "69f4a0fd-35de-4e94-89c7-b539c0886017",
   "metadata": {},
   "source": [
    "# 가위바위보(1)"
   ]
  },
  {
   "cell_type": "code",
   "execution_count": 19,
   "id": "7af0f22e-614d-49d5-9732-12f27601514d",
   "metadata": {},
   "outputs": [
    {
     "name": "stdin",
     "output_type": "stream",
     "text": [
      " 가위\n",
      " 가위\n"
     ]
    },
    {
     "name": "stdout",
     "output_type": "stream",
     "text": [
      "Result : Draw\n"
     ]
    }
   ],
   "source": [
    "man1 = input()\n",
    "man2 = input()\n",
    "\n",
    "rcp = ['가위', '바위', '보']\n",
    "\n",
    "man1_idx = rcp.index(man1)\n",
    "man2_idx = rcp.index(man2)\n",
    "\n",
    "result = man1_idx - man2_idx\n",
    "\n",
    "if result == 0:\n",
    "    print('Result : Draw')\n",
    "elif result > 0:\n",
    "    print(f'Result : Man{result} win!')\n",
    "else:\n",
    "    if result == -1:\n",
    "        print('Result : Man2 Win!')\n",
    "    else:\n",
    "        print('Result : Man1 Win!')\n"
   ]
  },
  {
   "cell_type": "markdown",
   "id": "e006d412-bac4-470e-9240-0def1dd0b2bd",
   "metadata": {},
   "source": [
    "# 가위바위보(2)"
   ]
  },
  {
   "cell_type": "code",
   "execution_count": 2,
   "id": "72857346-524f-40a1-a97d-fd171cbab106",
   "metadata": {},
   "outputs": [
    {
     "name": "stdin",
     "output_type": "stream",
     "text": [
      " 가위\n",
      " 바위\n"
     ]
    },
    {
     "name": "stdout",
     "output_type": "stream",
     "text": [
      "Result : Man2 Win!\n"
     ]
    }
   ],
   "source": [
    "man1 = input()\n",
    "man2 = input()\n",
    "\n",
    "rcp = ['가위', '바위', '보']\n",
    "\n",
    "if man1 == '가위' and man2 == '가위':\n",
    "    print('Result : Draw')\n",
    "elif man1 == '가위' and man2 == '바위':\n",
    "    print('Result : Man2 Win!')\n",
    "elif man1 == '가위' and man2 == '보':\n",
    "    print('Result : Man1 Win!')"
   ]
  },
  {
   "cell_type": "markdown",
   "id": "0bbfdaaa-00c0-43ce-8814-331d47e76ed3",
   "metadata": {},
   "source": [
    "# 7의 배수이면서 5의 배수가 아닌 수"
   ]
  },
  {
   "cell_type": "code",
   "execution_count": 31,
   "id": "d84c9e49-3fdd-4f82-9334-a8a246d01f6f",
   "metadata": {},
   "outputs": [
    {
     "name": "stdout",
     "output_type": "stream",
     "text": [
      "7,14,21,28,42,49,56,63,77,84,91,98,112,119,126,133,147,154,161,168,182,189,196\n"
     ]
    }
   ],
   "source": [
    "result = []\n",
    "\n",
    "for i in range(1, 201):\n",
    "    if i % 7 == 0 and i % 5 != 0:\n",
    "        result.append(i)\n",
    "\n",
    "result = list(map(str, result))\n",
    "#result = list(result)\n",
    "#result = list(map(result))\n",
    "\n",
    "print(','.join(result))\n",
    "#print(result)\n",
    "#print(i)"
   ]
  },
  {
   "cell_type": "code",
   "execution_count": 38,
   "id": "d39135cd-c728-4eab-8211-3f867043fda7",
   "metadata": {},
   "outputs": [],
   "source": [
    "def my_max(num1, num2):\n",
    "    if num1 > num2:\n",
    "        print(f'{num1}이 더 큽니다.')\n",
    "    elif num1 < num2:\n",
    "        print(f'{num2}가 더 큽니다.')\n",
    "    else:\n",
    "        print('두 수가 같습니다.')"
   ]
  },
  {
   "cell_type": "code",
   "execution_count": 40,
   "id": "84611322-11cb-4bb6-a816-597abade2167",
   "metadata": {},
   "outputs": [
    {
     "name": "stdout",
     "output_type": "stream",
     "text": [
      "200가 더 큽니다.\n",
      "None\n"
     ]
    }
   ],
   "source": [
    "result = my_max(100, 200)\n",
    "print(result)"
   ]
  },
  {
   "cell_type": "code",
   "execution_count": 51,
   "id": "12cb72b0-2e53-4763-9387-416e39f66e5a",
   "metadata": {},
   "outputs": [],
   "source": [
    "def my_score(list_a, list_b):\n",
    "    if sum(list_a) > sum(list_b):\n",
    "        return list_a\n",
    "    elif sum(list_a) < sum(list_b):\n",
    "        return list_b\n",
    "    else:\n",
    "        return 0"
   ]
  },
  {
   "cell_type": "code",
   "execution_count": 56,
   "id": "e83ed066-2432-4a21-80d7-02106ceb5506",
   "metadata": {},
   "outputs": [
    {
     "data": {
      "text/plain": [
       "[200]"
      ]
     },
     "execution_count": 56,
     "metadata": {},
     "output_type": "execute_result"
    }
   ],
   "source": [
    "my_score([100], [200])"
   ]
  },
  {
   "cell_type": "code",
   "execution_count": 72,
   "id": "6473ce0f-1dd0-46c7-9f10-5e8db1febb12",
   "metadata": {},
   "outputs": [
    {
     "name": "stdout",
     "output_type": "stream",
     "text": [
      "짝수\n"
     ]
    }
   ],
   "source": [
    "num = 2\n",
    "\n",
    "if (num % 2):\n",
    "    print('홀수')\n",
    "else:\n",
    "    print('짝수')"
   ]
  },
  {
   "cell_type": "code",
   "execution_count": 74,
   "id": "c43dbf65-974d-4c40-8776-212ffae246ab",
   "metadata": {},
   "outputs": [
    {
     "name": "stdout",
     "output_type": "stream",
     "text": [
      "B\n"
     ]
    }
   ],
   "source": [
    "# 95 A+\n",
    "# 90 A\n",
    "# 85 B+\n",
    "# 80 B\n",
    "# 75 C+\n",
    "# 70 C\n",
    "# 65 D+\n",
    "# 60 D\n",
    "# 60미만 F\n",
    "\n",
    "\n",
    "score = 80\n",
    "\n",
    "if score >= 95:\n",
    "    print('A+')\n",
    "elif score >= 90:\n",
    "    print('A')\n",
    "elif score >= 85:\n",
    "    print('B+')\n",
    "elif score >= 80:\n",
    "    print('B')\n",
    "elif score >= 75:\n",
    "    print('C+')\n",
    "elif score >= 70:\n",
    "    print('C')\n",
    "elif score >= 65:\n",
    "    print('D+')\n",
    "elif score >= 60:\n",
    "    print('D')\n",
    "else:\n",
    "    print('F')"
   ]
  },
  {
   "cell_type": "code",
   "execution_count": null,
   "id": "38da5373-111e-4d4e-a39b-70a949030234",
   "metadata": {},
   "outputs": [],
   "source": []
  },
  {
   "cell_type": "code",
   "execution_count": null,
   "id": "fc357448-8a5e-4848-8dd8-fa7cf5537946",
   "metadata": {},
   "outputs": [],
   "source": []
  },
  {
   "cell_type": "code",
   "execution_count": null,
   "id": "6e2bbb51-24b3-4f2c-b630-32f2c091535d",
   "metadata": {},
   "outputs": [],
   "source": []
  },
  {
   "cell_type": "code",
   "execution_count": null,
   "id": "9d447b77-6c34-402e-9b35-c298ff494b8b",
   "metadata": {},
   "outputs": [],
   "source": []
  },
  {
   "cell_type": "code",
   "execution_count": null,
   "id": "fc808bcd-9ca4-4377-b7df-c5e62787d575",
   "metadata": {},
   "outputs": [],
   "source": []
  },
  {
   "cell_type": "code",
   "execution_count": null,
   "id": "695df7f9-bfe8-4800-a760-4d7c046d3faf",
   "metadata": {},
   "outputs": [],
   "source": []
  }
 ],
 "metadata": {
  "kernelspec": {
   "display_name": "Python 3 (ipykernel)",
   "language": "python",
   "name": "python3"
  },
  "language_info": {
   "codemirror_mode": {
    "name": "ipython",
    "version": 3
   },
   "file_extension": ".py",
   "mimetype": "text/x-python",
   "name": "python",
   "nbconvert_exporter": "python",
   "pygments_lexer": "ipython3",
   "version": "3.11.4"
  }
 },
 "nbformat": 4,
 "nbformat_minor": 5
}
