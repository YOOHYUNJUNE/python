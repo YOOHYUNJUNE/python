{
 "cells": [
  {
   "cell_type": "markdown",
   "id": "eb655223-f2a5-4a1f-91c4-478e12ad286b",
   "metadata": {},
   "source": [
    "# 01. intro\n",
    "\n",
    "## 단축키\n",
    "\n",
    "- ctrl + enter : 지금 셀 실행\n",
    "- shift + enter : 지금 셀 실행 & 아래로 이동\n",
    "- alt +enter : 지금 셀 실행 & 아래에 세로운 셀 추가\n",
    "\n",
    "## 주의사항\n",
    "\n",
    "1. apple / Apple 대소문자 주의\n",
    "2. git add. / git add . 띄어쓰기 주의\n",
    "3. message / massage"
   ]
  },
  {
   "cell_type": "code",
   "execution_count": null,
   "id": "4393ec5b-6428-4f38-8503-59fac94dd789",
   "metadata": {},
   "outputs": [],
   "source": [
    "# 주석을 나타냅니다."
   ]
  },
  {
   "cell_type": "markdown",
   "id": "0c74629c-aac2-42af-9102-953cbb651c9a",
   "metadata": {},
   "source": [
    "# 1. 변수\n",
    "\n",
    "변수이름 = 값\n",
    "\n",
    "- 변수이름은 어떤 이름이든 상관 없음\n",
    "- 다만 영어, 숫자, _ 를 이용하여 선언\n",
    "- 키워드는 사용불가"
   ]
  },
  {
   "cell_type": "code",
   "execution_count": 8,
   "id": "18ddd263-10f3-42fb-a473-8bb0c41a7b88",
   "metadata": {},
   "outputs": [],
   "source": [
    "a = 10"
   ]
  },
  {
   "cell_type": "code",
   "execution_count": 13,
   "id": "30346b9e-7bd3-4eeb-bc01-e4ca92c754e6",
   "metadata": {},
   "outputs": [
    {
     "data": {
      "text/plain": [
       "['False',\n",
       " 'None',\n",
       " 'True',\n",
       " 'and',\n",
       " 'as',\n",
       " 'assert',\n",
       " 'async',\n",
       " 'await',\n",
       " 'break',\n",
       " 'class',\n",
       " 'continue',\n",
       " 'def',\n",
       " 'del',\n",
       " 'elif',\n",
       " 'else',\n",
       " 'except',\n",
       " 'finally',\n",
       " 'for',\n",
       " 'from',\n",
       " 'global',\n",
       " 'if',\n",
       " 'import',\n",
       " 'in',\n",
       " 'is',\n",
       " 'lambda',\n",
       " 'nonlocal',\n",
       " 'not',\n",
       " 'or',\n",
       " 'pass',\n",
       " 'raise',\n",
       " 'return',\n",
       " 'try',\n",
       " 'while',\n",
       " 'with',\n",
       " 'yield']"
      ]
     },
     "execution_count": 13,
     "metadata": {},
     "output_type": "execute_result"
    }
   ],
   "source": [
    "import keyword\n",
    "keyword.kwlist"
   ]
  },
  {
   "cell_type": "markdown",
   "id": "fe0747a1-1dea-4f5e-9af3-ad210ed16220",
   "metadata": {},
   "source": [
    "### 1.1 number"
   ]
  },
  {
   "cell_type": "code",
   "execution_count": 17,
   "id": "5ea6a04b-43c5-4903-b483-702b6752cafd",
   "metadata": {},
   "outputs": [],
   "source": [
    "a = 1000000"
   ]
  },
  {
   "cell_type": "code",
   "execution_count": 18,
   "id": "40a121d7-0718-4f33-829e-6f358d57e790",
   "metadata": {},
   "outputs": [
    {
     "data": {
      "text/plain": [
       "1000000"
      ]
     },
     "execution_count": 18,
     "metadata": {},
     "output_type": "execute_result"
    }
   ],
   "source": [
    "a"
   ]
  },
  {
   "cell_type": "code",
   "execution_count": 19,
   "id": "2f77e353-87d3-4610-9261-6ccaa2cffbb0",
   "metadata": {},
   "outputs": [
    {
     "data": {
      "text/plain": [
       "int"
      ]
     },
     "execution_count": 19,
     "metadata": {},
     "output_type": "execute_result"
    }
   ],
   "source": [
    "type(a)"
   ]
  },
  {
   "cell_type": "code",
   "execution_count": 20,
   "id": "9e486543-3c6f-4a84-810d-637e493f2bfa",
   "metadata": {},
   "outputs": [],
   "source": [
    "b = 1.1"
   ]
  },
  {
   "cell_type": "code",
   "execution_count": 21,
   "id": "a758d570-303d-45a2-ba8f-4b8ffad13adb",
   "metadata": {},
   "outputs": [
    {
     "data": {
      "text/plain": [
       "1.1"
      ]
     },
     "execution_count": 21,
     "metadata": {},
     "output_type": "execute_result"
    }
   ],
   "source": [
    "b"
   ]
  },
  {
   "cell_type": "code",
   "execution_count": 22,
   "id": "24a64e03-4470-42f1-96cf-f2263502c035",
   "metadata": {},
   "outputs": [
    {
     "data": {
      "text/plain": [
       "float"
      ]
     },
     "execution_count": 22,
     "metadata": {},
     "output_type": "execute_result"
    }
   ],
   "source": [
    "type(b)"
   ]
  },
  {
   "cell_type": "code",
   "execution_count": 23,
   "id": "c5d42fa0-321d-4225-9acf-9eb0636a3bbc",
   "metadata": {},
   "outputs": [],
   "source": [
    "c = 1 - 4j"
   ]
  },
  {
   "cell_type": "code",
   "execution_count": 24,
   "id": "c08db339-166c-4342-9a6d-5163c7c77640",
   "metadata": {},
   "outputs": [
    {
     "data": {
      "text/plain": [
       "(1-4j)"
      ]
     },
     "execution_count": 24,
     "metadata": {},
     "output_type": "execute_result"
    }
   ],
   "source": [
    "c"
   ]
  },
  {
   "cell_type": "code",
   "execution_count": 25,
   "id": "3936896d-6d19-406f-a6ae-c6b7a35d1547",
   "metadata": {},
   "outputs": [
    {
     "data": {
      "text/plain": [
       "complex"
      ]
     },
     "execution_count": 25,
     "metadata": {},
     "output_type": "execute_result"
    }
   ],
   "source": [
    "type(c)"
   ]
  },
  {
   "cell_type": "code",
   "execution_count": 27,
   "id": "fdde287a-68c9-481b-919d-e6fc5d2dfbac",
   "metadata": {},
   "outputs": [
    {
     "data": {
      "text/plain": [
       "-4.0"
      ]
     },
     "execution_count": 27,
     "metadata": {},
     "output_type": "execute_result"
    }
   ],
   "source": [
    "c.imag"
   ]
  },
  {
   "cell_type": "code",
   "execution_count": 28,
   "id": "98c99196-83de-40a3-b568-a20c1b90c8e5",
   "metadata": {},
   "outputs": [
    {
     "data": {
      "text/plain": [
       "1.0"
      ]
     },
     "execution_count": 28,
     "metadata": {},
     "output_type": "execute_result"
    }
   ],
   "source": [
    "c.real"
   ]
  },
  {
   "cell_type": "markdown",
   "id": "343f1565-5b0d-46cf-9404-fb31c70523e9",
   "metadata": {},
   "source": [
    "### 1.2 Boolean\n",
    "\n",
    "True, False로 이루어진 타입"
   ]
  },
  {
   "cell_type": "code",
   "execution_count": 29,
   "id": "968884ba-1e60-413e-a7f4-58fab85414f6",
   "metadata": {},
   "outputs": [],
   "source": [
    "a = True"
   ]
  },
  {
   "cell_type": "code",
   "execution_count": 30,
   "id": "20bf5dcf-ed06-4de6-9783-7869ec2a0269",
   "metadata": {},
   "outputs": [
    {
     "data": {
      "text/plain": [
       "bool"
      ]
     },
     "execution_count": 30,
     "metadata": {},
     "output_type": "execute_result"
    }
   ],
   "source": [
    "type(a)"
   ]
  },
  {
   "cell_type": "markdown",
   "id": "aee924dd-8ce1-4d82-9988-aff7f9155dc2",
   "metadata": {},
   "source": [
    "b = False"
   ]
  },
  {
   "cell_type": "code",
   "execution_count": 32,
   "id": "492c6dd3-7d6e-40d6-b423-9be13c161962",
   "metadata": {},
   "outputs": [
    {
     "data": {
      "text/plain": [
       "bool"
      ]
     },
     "execution_count": 32,
     "metadata": {},
     "output_type": "execute_result"
    }
   ],
   "source": [
    "type(b)"
   ]
  },
  {
   "cell_type": "code",
   "execution_count": 33,
   "id": "eb371244-6c0b-47ea-80fa-59ce02841ada",
   "metadata": {},
   "outputs": [
    {
     "data": {
      "text/plain": [
       "False"
      ]
     },
     "execution_count": 33,
     "metadata": {},
     "output_type": "execute_result"
    }
   ],
   "source": [
    "bool(0)"
   ]
  },
  {
   "cell_type": "code",
   "execution_count": 34,
   "id": "21780211-edee-46c7-b82a-5dd7ab15a6e5",
   "metadata": {},
   "outputs": [
    {
     "data": {
      "text/plain": [
       "True"
      ]
     },
     "execution_count": 34,
     "metadata": {},
     "output_type": "execute_result"
    }
   ],
   "source": [
    "bool(1)\n"
   ]
  },
  {
   "cell_type": "code",
   "execution_count": 36,
   "id": "5e0bd42a-267d-4c5e-afa4-d9303ad881f5",
   "metadata": {},
   "outputs": [
    {
     "data": {
      "text/plain": [
       "True"
      ]
     },
     "execution_count": 36,
     "metadata": {},
     "output_type": "execute_result"
    }
   ],
   "source": [
    "bool([1])"
   ]
  },
  {
   "cell_type": "code",
   "execution_count": 37,
   "id": "4ecc56f6-e337-41ff-9877-b2b43fa85546",
   "metadata": {},
   "outputs": [
    {
     "data": {
      "text/plain": [
       "False"
      ]
     },
     "execution_count": 37,
     "metadata": {},
     "output_type": "execute_result"
    }
   ],
   "source": [
    "bool([])"
   ]
  },
  {
   "cell_type": "markdown",
   "id": "0836b0eb-69bc-4684-981b-06962e83a568",
   "metadata": {},
   "source": [
    "### 1.3 None"
   ]
  },
  {
   "cell_type": "code",
   "execution_count": 38,
   "id": "7b4846a1-ad37-434b-80df-bae33129d517",
   "metadata": {},
   "outputs": [],
   "source": [
    "a = None"
   ]
  },
  {
   "cell_type": "code",
   "execution_count": 39,
   "id": "df113cf1-7698-4fc1-bc59-3015ea0d7006",
   "metadata": {},
   "outputs": [
    {
     "data": {
      "text/plain": [
       "NoneType"
      ]
     },
     "execution_count": 39,
     "metadata": {},
     "output_type": "execute_result"
    }
   ],
   "source": [
    "type(a)"
   ]
  },
  {
   "cell_type": "markdown",
   "id": "1b37bc43-59c5-43e5-8e46-14a49e8298c5",
   "metadata": {},
   "source": [
    "### 1.4 String\n",
    "\n",
    "- 문자열은 ', \" 를 이용하여 표현"
   ]
  },
  {
   "cell_type": "code",
   "execution_count": 40,
   "id": "31cb1fbb-18c7-4373-8f7f-21421641feb1",
   "metadata": {},
   "outputs": [],
   "source": [
    "a = 'hello'"
   ]
  },
  {
   "cell_type": "code",
   "execution_count": 41,
   "id": "91d82960-3759-4d27-b705-7030014e618f",
   "metadata": {},
   "outputs": [
    {
     "data": {
      "text/plain": [
       "str"
      ]
     },
     "execution_count": 41,
     "metadata": {},
     "output_type": "execute_result"
    }
   ],
   "source": [
    "type(a)"
   ]
  },
  {
   "cell_type": "code",
   "execution_count": 42,
   "id": "f0844119-3884-4d51-9d76-10417f3bfd99",
   "metadata": {},
   "outputs": [],
   "source": [
    "b = \"world\""
   ]
  },
  {
   "cell_type": "code",
   "execution_count": 43,
   "id": "3398cfc3-4984-4bce-9270-81301c256c7c",
   "metadata": {},
   "outputs": [
    {
     "data": {
      "text/plain": [
       "str"
      ]
     },
     "execution_count": 43,
     "metadata": {},
     "output_type": "execute_result"
    }
   ],
   "source": [
    "type(b)"
   ]
  },
  {
   "cell_type": "code",
   "execution_count": 45,
   "id": "e5cffcc1-c1b8-44dd-bf75-84c90bc3a670",
   "metadata": {},
   "outputs": [
    {
     "name": "stdin",
     "output_type": "stream",
     "text": [
      " 123\n"
     ]
    },
    {
     "name": "stdout",
     "output_type": "stream",
     "text": [
      "123\n",
      "<class 'str'>\n"
     ]
    }
   ],
   "source": [
    "age = input()\n",
    "print(age)\n",
    "print(type(age))"
   ]
  },
  {
   "cell_type": "code",
   "execution_count": 47,
   "id": "bd175ccb-9e61-4eb6-9d8f-95aef2bfe22f",
   "metadata": {},
   "outputs": [
    {
     "ename": "SyntaxError",
     "evalue": "invalid syntax. Perhaps you forgot a comma? (925100389.py, line 1)",
     "output_type": "error",
     "traceback": [
      "\u001b[1;36m  Cell \u001b[1;32mIn[47], line 1\u001b[1;36m\u001b[0m\n\u001b[1;33m    print('안녕하세요? '유현준'입니다.')\u001b[0m\n\u001b[1;37m          ^\u001b[0m\n\u001b[1;31mSyntaxError\u001b[0m\u001b[1;31m:\u001b[0m invalid syntax. Perhaps you forgot a comma?\n"
     ]
    }
   ],
   "source": [
    "print('안녕하세요? '유현준'입니다.')"
   ]
  },
  {
   "cell_type": "code",
   "execution_count": 48,
   "id": "cbc5da9e-5a29-431a-8c16-d93f4d867cff",
   "metadata": {},
   "outputs": [
    {
     "name": "stdout",
     "output_type": "stream",
     "text": [
      "안녕하세요? \"유현준\"입니다.\n"
     ]
    }
   ],
   "source": [
    "print('안녕하세요? \"유현준\"입니다.')"
   ]
  },
  {
   "cell_type": "code",
   "execution_count": 49,
   "id": "83ce9152-3ca5-4152-aaca-60c0562b2617",
   "metadata": {},
   "outputs": [
    {
     "name": "stdout",
     "output_type": "stream",
     "text": [
      "안녕하세요? '유현준'입니다.\n"
     ]
    }
   ],
   "source": [
    "print('안녕하세요? \\'유현준\\'입니다.')"
   ]
  },
  {
   "cell_type": "code",
   "execution_count": 50,
   "id": "a5b74fe0-2da0-4dcd-8057-c49fcd6e2d78",
   "metadata": {},
   "outputs": [],
   "source": [
    "a = '''\n",
    "여기는 문자열입니다.\n",
    "엔터를 쳐서 열어 줄을 작성 할 수 있습니다.\n",
    "'''"
   ]
  },
  {
   "cell_type": "code",
   "execution_count": 51,
   "id": "4c0cb10c-1e00-4874-b384-4814c0efedbe",
   "metadata": {},
   "outputs": [
    {
     "name": "stdout",
     "output_type": "stream",
     "text": [
      "\n",
      "여기는 문자열입니다.\n",
      "엔터를 쳐서 열어 줄을 작성 할 수 있습니다.\n",
      "\n"
     ]
    }
   ],
   "source": [
    "print(a)"
   ]
  },
  {
   "cell_type": "code",
   "execution_count": 53,
   "id": "e0374320-d2bc-4a17-80df-eeb0e7676b13",
   "metadata": {},
   "outputs": [
    {
     "name": "stdout",
     "output_type": "stream",
     "text": [
      "엔터를 입력해봐요 \n",
      "다음줄입니다. \t들여쓰기도 가능합니다.\n"
     ]
    }
   ],
   "source": [
    "print('엔터를 입력해봐요 \\n다음줄입니다. \\t들여쓰기도 가능합니다.')"
   ]
  },
  {
   "cell_type": "code",
   "execution_count": 57,
   "id": "c7b7c60f-06cb-4079-90a9-fc3cc73ca3e4",
   "metadata": {},
   "outputs": [
    {
     "name": "stdout",
     "output_type": "stream",
     "text": [
      "하나\t둘\t셋\n"
     ]
    }
   ],
   "source": [
    "print('하나', '둘', '셋', sep='\\t')"
   ]
  },
  {
   "cell_type": "code",
   "execution_count": null,
   "id": "165d1e8b-10a6-4d88-9b6e-f23516f64a3d",
   "metadata": {},
   "outputs": [],
   "source": [
    "### string interpolation\n",
    "\n",
    "1. %-formatting\n",
    "2. str.format()\n",
    "3. f-string"
   ]
  },
  {
   "cell_type": "code",
   "execution_count": 58,
   "id": "45686ede-7d11-4bc6-a446-2f0f4fb4d814",
   "metadata": {},
   "outputs": [],
   "source": [
    "age = 20"
   ]
  },
  {
   "cell_type": "code",
   "execution_count": 59,
   "id": "1b1c4bf4-60aa-4523-a9af-f983fac4fd93",
   "metadata": {},
   "outputs": [
    {
     "name": "stdout",
     "output_type": "stream",
     "text": [
      "홍길동은 20 살입니다.\n"
     ]
    }
   ],
   "source": [
    "print('홍길동은 %s 살입니다.' % age)"
   ]
  },
  {
   "cell_type": "code",
   "execution_count": 61,
   "id": "2322cee4-64a9-4d35-b2fe-4ae2380a2fc9",
   "metadata": {},
   "outputs": [
    {
     "name": "stdout",
     "output_type": "stream",
     "text": [
      "홍길동은 20살입니다.\n"
     ]
    }
   ],
   "source": [
    "print('홍길동은 {}살입니다.' .format(age))"
   ]
  },
  {
   "cell_type": "code",
   "execution_count": 62,
   "id": "0316e694-ef80-43ce-a65f-0bbfca9e4842",
   "metadata": {},
   "outputs": [
    {
     "name": "stdout",
     "output_type": "stream",
     "text": [
      "홍길동은 20살입니다.\n"
     ]
    }
   ],
   "source": [
    "print(f'홍길동은 {age}살입니다.')"
   ]
  },
  {
   "cell_type": "code",
   "execution_count": null,
   "id": "cf03c739-31c8-468c-ac90-0199f6a2bcd3",
   "metadata": {},
   "outputs": [],
   "source": []
  },
  {
   "cell_type": "markdown",
   "id": "04bd92f9-abed-4f7b-8331-22a3dfcba619",
   "metadata": {},
   "source": [
    "## 2. 연산자\n",
    "\n",
    "### 2.1 산술연산자"
   ]
  },
  {
   "cell_type": "code",
   "execution_count": 67,
   "id": "de2ac580-da6a-4e0c-9973-b158efce12d0",
   "metadata": {},
   "outputs": [],
   "source": [
    "a = 2\n",
    "b = 3"
   ]
  },
  {
   "cell_type": "code",
   "execution_count": 68,
   "id": "cbfdc29b-d0d4-4d2f-b549-1cf073edae54",
   "metadata": {},
   "outputs": [
    {
     "name": "stdout",
     "output_type": "stream",
     "text": [
      "5\n",
      "-1\n",
      "6\n",
      "0.6666666666666666\n",
      "8\n"
     ]
    }
   ],
   "source": [
    "print(a + b)\n",
    "print(a - b)\n",
    "print(a * b)\n",
    "print(a / b)\n",
    "print(a ** b)"
   ]
  },
  {
   "cell_type": "code",
   "execution_count": 75,
   "id": "ce6c565a-6b52-40d0-b166-870ce9e36165",
   "metadata": {},
   "outputs": [
    {
     "name": "stdout",
     "output_type": "stream",
     "text": [
      "0\n",
      "2\n",
      "(0, 2)\n"
     ]
    }
   ],
   "source": [
    "print(a//b)\n",
    "print(a % b)\n",
    "print(divmod(a, b))"
   ]
  },
  {
   "cell_type": "markdown",
   "id": "2b48d6b6-daae-459a-ad7a-2feba50ec07f",
   "metadata": {},
   "source": [
    "### 2.2 비교연산자"
   ]
  },
  {
   "cell_type": "code",
   "execution_count": 76,
   "id": "47bb6fd9-7002-445f-96ef-5fe19c014f69",
   "metadata": {},
   "outputs": [
    {
     "name": "stdout",
     "output_type": "stream",
     "text": [
      "False\n",
      "True\n",
      "False\n",
      "True\n"
     ]
    }
   ],
   "source": [
    "print(a > b)\n",
    "print(a < b)\n",
    "print(a >= b)\n",
    "print(a <= b)"
   ]
  },
  {
   "cell_type": "code",
   "execution_count": 77,
   "id": "d47ee493-e5ad-45d1-ab9c-4de96fac44fb",
   "metadata": {},
   "outputs": [
    {
     "name": "stdout",
     "output_type": "stream",
     "text": [
      "False\n",
      "True\n"
     ]
    }
   ],
   "source": [
    "print(a == b)\n",
    "print(a != b)"
   ]
  },
  {
   "cell_type": "code",
   "execution_count": 78,
   "id": "7325ac77-2c62-4f05-a55c-24d8b3aa0e80",
   "metadata": {},
   "outputs": [
    {
     "name": "stdout",
     "output_type": "stream",
     "text": [
      "True\n",
      "False\n"
     ]
    }
   ],
   "source": [
    "print('hi' == 'hi')\n",
    "print('HI' == 'hi')"
   ]
  },
  {
   "cell_type": "markdown",
   "id": "0e93833f-b651-4519-8a82-b48f07128302",
   "metadata": {},
   "source": [
    "### 2.3 논리연산자\n",
    "\n",
    "- and : 양쪽 모두 True일 때, True를 반환\n",
    "- or : 양쪽 모두 False일 때, False를 반환\n",
    "- not : 값을 반대로 전환"
   ]
  },
  {
   "cell_type": "code",
   "execution_count": 82,
   "id": "e51f50f0-1bb9-43c2-bbd5-54c04ff54c19",
   "metadata": {},
   "outputs": [
    {
     "name": "stdout",
     "output_type": "stream",
     "text": [
      "True\n",
      "False\n",
      "False\n",
      "False\n"
     ]
    }
   ],
   "source": [
    "print(True and True)\n",
    "print(True and False)\n",
    "print(False and True)\n",
    "print(False and False)"
   ]
  },
  {
   "cell_type": "code",
   "execution_count": 83,
   "id": "8064b199-a19d-4dad-bc80-d933f543686d",
   "metadata": {},
   "outputs": [
    {
     "name": "stdout",
     "output_type": "stream",
     "text": [
      "True\n",
      "True\n",
      "True\n",
      "False\n"
     ]
    }
   ],
   "source": [
    "print(True or True)\n",
    "print(True or False)\n",
    "print(False or True)\n",
    "print(False or False)"
   ]
  },
  {
   "cell_type": "code",
   "execution_count": 84,
   "id": "f86e98d0-8d92-4e11-b2f2-8d6057337435",
   "metadata": {},
   "outputs": [
    {
     "name": "stdout",
     "output_type": "stream",
     "text": [
      "True\n",
      "False\n"
     ]
    }
   ],
   "source": [
    "print(True)\n",
    "print(not True)"
   ]
  },
  {
   "cell_type": "code",
   "execution_count": 86,
   "id": "7076325a-0ecf-4548-9008-0e32f2ee2893",
   "metadata": {},
   "outputs": [
    {
     "name": "stdout",
     "output_type": "stream",
     "text": [
      "5\n",
      "0\n",
      "0\n",
      "0\n"
     ]
    }
   ],
   "source": [
    "# 단축평가 (and)\n",
    "print(3 and 5)\n",
    "print(3 and 0)\n",
    "print(0 and 5)\n",
    "print(0 and 0)"
   ]
  },
  {
   "cell_type": "code",
   "execution_count": 87,
   "id": "74408b21-d521-4272-9c7a-2a6411e346a0",
   "metadata": {},
   "outputs": [
    {
     "name": "stdout",
     "output_type": "stream",
     "text": [
      "3\n",
      "3\n",
      "5\n",
      "0\n"
     ]
    }
   ],
   "source": [
    "# 단축평가 (or)\n",
    "print(3 or 5)\n",
    "print(3 or 0)\n",
    "print(0 or 5)\n",
    "print(0 or 0)"
   ]
  },
  {
   "cell_type": "markdown",
   "id": "390306f4-7936-4e80-b6c9-bd7959b54edb",
   "metadata": {},
   "source": [
    "### 2.3 복합연산자"
   ]
  },
  {
   "cell_type": "markdown",
   "id": "d47ffb1e-61aa-41a2-be12-61ba3c2bde8b",
   "metadata": {},
   "source": [
    "a = 1\n",
    "b = 2"
   ]
  },
  {
   "cell_type": "code",
   "execution_count": 114,
   "id": "18f4800f-7441-489c-9844-f236ed5fa2f4",
   "metadata": {},
   "outputs": [
    {
     "data": {
      "text/plain": [
       "'hi'"
      ]
     },
     "execution_count": 114,
     "metadata": {},
     "output_type": "execute_result"
    }
   ],
   "source": [
    "a"
   ]
  },
  {
   "cell_type": "code",
   "execution_count": 100,
   "id": "4af0436b-149d-4946-8505-9bcdf0befa0f",
   "metadata": {},
   "outputs": [],
   "source": [
    "a = a + 1"
   ]
  },
  {
   "cell_type": "code",
   "execution_count": 101,
   "id": "ac25b71c-861c-4e11-b918-57f9f73473a8",
   "metadata": {},
   "outputs": [
    {
     "data": {
      "text/plain": [
       "1"
      ]
     },
     "execution_count": 101,
     "metadata": {},
     "output_type": "execute_result"
    }
   ],
   "source": [
    "a"
   ]
  },
  {
   "cell_type": "code",
   "execution_count": 102,
   "id": "3df8c577-4d80-43c7-95f6-acc905109a53",
   "metadata": {},
   "outputs": [],
   "source": [
    "a += 1"
   ]
  },
  {
   "cell_type": "code",
   "execution_count": 103,
   "id": "f1c7419e-6a10-473f-8124-7342ed26e0fc",
   "metadata": {},
   "outputs": [
    {
     "name": "stdout",
     "output_type": "stream",
     "text": [
      "2\n"
     ]
    }
   ],
   "source": [
    "print(a)"
   ]
  },
  {
   "cell_type": "code",
   "execution_count": 104,
   "id": "21caec87-d680-446a-be08-5f28d4cd3904",
   "metadata": {},
   "outputs": [],
   "source": [
    "a += 1"
   ]
  },
  {
   "cell_type": "code",
   "execution_count": 105,
   "id": "e19f747c-3761-4564-bcc2-a9d9f36e9311",
   "metadata": {},
   "outputs": [
    {
     "name": "stdout",
     "output_type": "stream",
     "text": [
      "3\n"
     ]
    }
   ],
   "source": [
    "print(a)"
   ]
  },
  {
   "cell_type": "code",
   "execution_count": 109,
   "id": "59098a7b-1402-4ae8-96a5-283077fa29ea",
   "metadata": {},
   "outputs": [],
   "source": [
    "a += b\n",
    "a -= b\n",
    "a *= b\n",
    "a /= b\n",
    "a //= b\n",
    "a %= b\n",
    "a **= b"
   ]
  },
  {
   "cell_type": "markdown",
   "id": "c91caf05-e6c1-4f6e-bf3f-775797f8e96f",
   "metadata": {},
   "source": [
    "### 2.4 기타연산자"
   ]
  },
  {
   "cell_type": "code",
   "execution_count": 110,
   "id": "098b20ea-e6e8-493e-a7f9-c8cf25151d3c",
   "metadata": {},
   "outputs": [],
   "source": [
    "a = 'hi'\n",
    "b = 'hello'"
   ]
  },
  {
   "cell_type": "code",
   "execution_count": 113,
   "id": "28ba44b7-176a-4f59-8b6a-63e7d29eefc4",
   "metadata": {},
   "outputs": [
    {
     "data": {
      "text/plain": [
       "'hihello'"
      ]
     },
     "execution_count": 113,
     "metadata": {},
     "output_type": "execute_result"
    }
   ],
   "source": [
    "# concatenation\n",
    "a + b"
   ]
  },
  {
   "cell_type": "code",
   "execution_count": 112,
   "id": "82f716e6-0e11-4d43-b99e-c356304a5b5c",
   "metadata": {},
   "outputs": [
    {
     "name": "stdout",
     "output_type": "stream",
     "text": [
      "hihello\n"
     ]
    }
   ],
   "source": [
    "print(a+b)"
   ]
  },
  {
   "cell_type": "code",
   "execution_count": 115,
   "id": "57b25239-0e5d-46e8-8598-5723b30922c0",
   "metadata": {},
   "outputs": [],
   "source": [
    "a = [1, 2, 3]\n",
    "b = [4, 5, 6]"
   ]
  },
  {
   "cell_type": "code",
   "execution_count": 116,
   "id": "1bc2125b-6ad2-414d-944a-84875ff40d52",
   "metadata": {},
   "outputs": [
    {
     "data": {
      "text/plain": [
       "[1, 2, 3, 4, 5, 6]"
      ]
     },
     "execution_count": 116,
     "metadata": {},
     "output_type": "execute_result"
    }
   ],
   "source": [
    "a + b"
   ]
  },
  {
   "cell_type": "code",
   "execution_count": 118,
   "id": "ccb53123-0b05-4a53-b6b1-654406765b0d",
   "metadata": {},
   "outputs": [
    {
     "name": "stdout",
     "output_type": "stream",
     "text": [
      "True\n",
      "False\n"
     ]
    }
   ],
   "source": [
    "# containment\n",
    "print('a' in 'apple')\n",
    "print('z' in 'apple')"
   ]
  },
  {
   "cell_type": "code",
   "execution_count": 119,
   "id": "930a1b3a-0e7a-45dc-a720-fb0941a1b128",
   "metadata": {},
   "outputs": [
    {
     "name": "stdout",
     "output_type": "stream",
     "text": [
      "True\n",
      "False\n"
     ]
    }
   ],
   "source": [
    "print(1 in [1, 2, 3])\n",
    "print (10 in [1, 2, 3])"
   ]
  },
  {
   "cell_type": "code",
   "execution_count": 123,
   "id": "8a22216a-7b10-417e-8f6d-fd0d9f8d6ca3",
   "metadata": {},
   "outputs": [
    {
     "name": "stdout",
     "output_type": "stream",
     "text": [
      "True\n",
      "140727330005800\n",
      "140727330005800\n"
     ]
    }
   ],
   "source": [
    "# identity\n",
    "a = 1\n",
    "b = 1\n",
    "print(a is b)\n",
    "print(id(a))\n",
    "print(id(b))"
   ]
  },
  {
   "cell_type": "code",
   "execution_count": 124,
   "id": "1eee8876-e1f3-4e90-a13d-9485057a2289",
   "metadata": {},
   "outputs": [
    {
     "name": "stdout",
     "output_type": "stream",
     "text": [
      "False\n",
      "2912431643024\n",
      "2912431641392\n"
     ]
    }
   ],
   "source": [
    "a = 123123\n",
    "b = 123123\n",
    "print(a is b)\n",
    "print(id(a))\n",
    "print(id(b))"
   ]
  },
  {
   "cell_type": "markdown",
   "id": "c62556ed-ac69-4a07-84eb-a7817f192ade",
   "metadata": {},
   "source": [
    "### 우선순위\n",
    "\n",
    "0. ()\n",
    "1. **\n",
    "2. 산술연산자(*,/)\n",
    "3. 산술연산자(+,-)\n",
    "4. 비교연산자, in, is\n",
    "5. not\n",
    "6. and\n",
    "7. or"
   ]
  },
  {
   "cell_type": "code",
   "execution_count": 130,
   "id": "9ae4f69d-88da-4a75-a3fa-ab7ee6a53198",
   "metadata": {},
   "outputs": [
    {
     "name": "stdout",
     "output_type": "stream",
     "text": [
      "-81\n",
      "81\n"
     ]
    }
   ],
   "source": [
    "print(-3 ** 4)\n",
    "print((-3) ** 4)"
   ]
  },
  {
   "cell_type": "markdown",
   "id": "e1b2aa47-ced7-4631-bd1d-7db51f94336a",
   "metadata": {},
   "source": [
    "## 3. 형변환\n",
    "\n",
    "### 3.1 암시적 형변환"
   ]
  },
  {
   "cell_type": "code",
   "execution_count": 133,
   "id": "55517f3e-960f-4d70-97a7-3465675d8b00",
   "metadata": {},
   "outputs": [],
   "source": [
    "a = True\n",
    "b = False\n",
    "c = 1"
   ]
  },
  {
   "cell_type": "code",
   "execution_count": 135,
   "id": "9354f3b2-d89b-4a2c-9798-f71f07bdaac7",
   "metadata": {},
   "outputs": [
    {
     "name": "stdout",
     "output_type": "stream",
     "text": [
      "2\n",
      "1\n"
     ]
    }
   ],
   "source": [
    "print(a + c)\n",
    "print(b + c)"
   ]
  },
  {
   "cell_type": "code",
   "execution_count": 136,
   "id": "d6b02086-c802-4195-8992-b44adb64f6c3",
   "metadata": {},
   "outputs": [],
   "source": [
    "int_num = 3\n",
    "float_num = 3.3\n",
    "complex_num = 1 + 3j"
   ]
  },
  {
   "cell_type": "code",
   "execution_count": 138,
   "id": "2b01f340-a557-4f4e-a107-cb8136d1a1ce",
   "metadata": {},
   "outputs": [
    {
     "name": "stdout",
     "output_type": "stream",
     "text": [
      "6.3\n",
      "(4+3j)\n"
     ]
    }
   ],
   "source": [
    "print(int_num + float_num)\n",
    "print(int_num + complex_num)"
   ]
  },
  {
   "cell_type": "markdown",
   "id": "a2dafa99-ad4c-4e0b-bc0e-8edfed27aa3a",
   "metadata": {},
   "source": [
    "### 3.2 명시적 형변환\n",
    "\n",
    "- int() : string, float 를 int 로 변환\n",
    "- float() : string, int 를 float 로 변환\n",
    "- str() : int, float 등을 string으로 변환\n",
    "- bool() : int, list 등을 boolean으로 변환"
   ]
  },
  {
   "cell_type": "code",
   "execution_count": 139,
   "id": "02c1c2ee-5ff1-425f-80dd-75d1fe6a52d7",
   "metadata": {},
   "outputs": [],
   "source": [
    "a = 1\n",
    "b = '번'"
   ]
  },
  {
   "cell_type": "code",
   "execution_count": 140,
   "id": "0e925785-2dec-4ab1-a168-5e7af03fddb1",
   "metadata": {},
   "outputs": [
    {
     "ename": "TypeError",
     "evalue": "unsupported operand type(s) for +: 'int' and 'str'",
     "output_type": "error",
     "traceback": [
      "\u001b[1;31m---------------------------------------------------------------------------\u001b[0m",
      "\u001b[1;31mTypeError\u001b[0m                                 Traceback (most recent call last)",
      "Cell \u001b[1;32mIn[140], line 1\u001b[0m\n\u001b[1;32m----> 1\u001b[0m \u001b[38;5;28mprint\u001b[39m(\u001b[43ma\u001b[49m\u001b[43m \u001b[49m\u001b[38;5;241;43m+\u001b[39;49m\u001b[43m \u001b[49m\u001b[43mb\u001b[49m)\n",
      "\u001b[1;31mTypeError\u001b[0m: unsupported operand type(s) for +: 'int' and 'str'"
     ]
    }
   ],
   "source": [
    "print(a + b)"
   ]
  },
  {
   "cell_type": "code",
   "execution_count": 142,
   "id": "9c06e4bb-ab62-4d3d-80f9-0706d5aef796",
   "metadata": {},
   "outputs": [
    {
     "name": "stdout",
     "output_type": "stream",
     "text": [
      "1번\n",
      "a번\n"
     ]
    }
   ],
   "source": [
    "print(str(a) + b)\n",
    "print('a' + b)"
   ]
  },
  {
   "cell_type": "code",
   "execution_count": 143,
   "id": "cfd548b9-e0b7-4df7-96f8-c57b8fd0336a",
   "metadata": {},
   "outputs": [],
   "source": [
    "a = '3'"
   ]
  },
  {
   "cell_type": "code",
   "execution_count": 145,
   "id": "4632db6d-75b5-4028-8cca-abf23d3e6990",
   "metadata": {},
   "outputs": [
    {
     "data": {
      "text/plain": [
       "int"
      ]
     },
     "execution_count": 145,
     "metadata": {},
     "output_type": "execute_result"
    }
   ],
   "source": [
    "type(int(a))"
   ]
  },
  {
   "cell_type": "code",
   "execution_count": 146,
   "id": "5cc4217f-945f-425c-8430-4ecc0defb1e9",
   "metadata": {},
   "outputs": [],
   "source": [
    "a = '3.3'"
   ]
  },
  {
   "cell_type": "code",
   "execution_count": 147,
   "id": "634d74a6-dc4f-4471-b06c-9f97dc22b2e7",
   "metadata": {},
   "outputs": [
    {
     "ename": "ValueError",
     "evalue": "invalid literal for int() with base 10: '3.3'",
     "output_type": "error",
     "traceback": [
      "\u001b[1;31m---------------------------------------------------------------------------\u001b[0m",
      "\u001b[1;31mValueError\u001b[0m                                Traceback (most recent call last)",
      "Cell \u001b[1;32mIn[147], line 1\u001b[0m\n\u001b[1;32m----> 1\u001b[0m \u001b[38;5;28mtype\u001b[39m(\u001b[38;5;28;43mint\u001b[39;49m\u001b[43m(\u001b[49m\u001b[43ma\u001b[49m\u001b[43m)\u001b[49m)\n",
      "\u001b[1;31mValueError\u001b[0m: invalid literal for int() with base 10: '3.3'"
     ]
    }
   ],
   "source": [
    "type(int(a))"
   ]
  },
  {
   "cell_type": "code",
   "execution_count": 150,
   "id": "6b10c9a1-386e-484a-80c4-7977b508dfba",
   "metadata": {},
   "outputs": [
    {
     "data": {
      "text/plain": [
       "float"
      ]
     },
     "execution_count": 150,
     "metadata": {},
     "output_type": "execute_result"
    }
   ],
   "source": [
    "type(float(a))"
   ]
  },
  {
   "cell_type": "code",
   "execution_count": 151,
   "id": "dbef5169-0766-42f3-8cbc-22ed7399c753",
   "metadata": {},
   "outputs": [
    {
     "data": {
      "text/plain": [
       "True"
      ]
     },
     "execution_count": 151,
     "metadata": {},
     "output_type": "execute_result"
    }
   ],
   "source": [
    "a = 1\n",
    "b = 0\n",
    "bool(a)"
   ]
  },
  {
   "cell_type": "code",
   "execution_count": 152,
   "id": "64dec621-3dcf-4018-9abe-9f061b17df05",
   "metadata": {},
   "outputs": [
    {
     "data": {
      "text/plain": [
       "False"
      ]
     },
     "execution_count": 152,
     "metadata": {},
     "output_type": "execute_result"
    }
   ],
   "source": [
    "bool(b)"
   ]
  },
  {
   "cell_type": "code",
   "execution_count": 156,
   "id": "c7751ff8-7529-45c9-9581-08666abd0d5e",
   "metadata": {},
   "outputs": [
    {
     "name": "stdout",
     "output_type": "stream",
     "text": [
      "False\n",
      "True\n"
     ]
    }
   ],
   "source": [
    "print(bool([]))\n",
    "print(bool([1, 2, 3]))"
   ]
  },
  {
   "cell_type": "markdown",
   "id": "8a9ad1a9-8b53-4024-9bc4-dae37c7d4262",
   "metadata": {},
   "source": [
    "## 4. 시퀀스 자료형\n",
    "\n",
    "시퀀스는 데이터의 순서대로 나열된 자료구조. (순서대로 나열 != 정렬)\n",
    "\n",
    "1. 리스트\n",
    "2. 튜플\n",
    "3. 레인지\n",
    "4. 문자열"
   ]
  },
  {
   "cell_type": "markdown",
   "id": "027b9535-5106-4e85-aac4-c7d93ca3a0de",
   "metadata": {},
   "source": [
    "### 4.1 List(배열) \n",
    "\n",
    "- 선언 : 변수이름 = [value1, value2, value3 ...]\n",
    "- 접근 : 변수이름[index]"
   ]
  },
  {
   "cell_type": "code",
   "execution_count": 167,
   "id": "ef0b6040-a106-4fa5-b2a2-5c6bc53018af",
   "metadata": {},
   "outputs": [
    {
     "name": "stdout",
     "output_type": "stream",
     "text": [
      "[]\n",
      "<class 'list'>\n"
     ]
    }
   ],
   "source": [
    "l = []\n",
    "print(l)\n",
    "print(type(l))"
   ]
  },
  {
   "cell_type": "code",
   "execution_count": 169,
   "id": "a9939a2d-2053-4a4e-9362-b30aeb56215d",
   "metadata": {},
   "outputs": [
    {
     "name": "stdout",
     "output_type": "stream",
     "text": [
      "['서울', '대구', '대전']\n",
      "대구\n",
      "['서울', '부산', '대전']\n"
     ]
    }
   ],
   "source": [
    "location = ['서울', '대구', '대전']\n",
    "print(location)\n",
    "print(location[1])\n",
    "location[1] = '부산'\n",
    "print(location)"
   ]
  },
  {
   "cell_type": "code",
   "execution_count": 160,
   "id": "b0378705-a10a-424e-9f24-c87ce80e9690",
   "metadata": {},
   "outputs": [
    {
     "name": "stdout",
     "output_type": "stream",
     "text": [
      "1\n",
      "hi\n"
     ]
    }
   ],
   "source": [
    "a = 1\n",
    "print(a)\n",
    "a = 'hi'\n",
    "print(a)"
   ]
  },
  {
   "cell_type": "markdown",
   "id": "90b6c3e2-2023-46a4-8fe0-1c18f2207193",
   "metadata": {},
   "source": [
    "### 4.2 Tuple\n",
    "- 선언 : 변수이름 = (value1, value2, value3)\n",
    "- 접근 : 변수이름[index]\n",
    "- 리스트와 유사하지만 수정 불가능(immutable)"
   ]
  },
  {
   "cell_type": "code",
   "execution_count": 166,
   "id": "3c62246e-f01f-4ace-bb10-846a9218a760",
   "metadata": {},
   "outputs": [
    {
     "name": "stdout",
     "output_type": "stream",
     "text": [
      "(1, 2, 3)\n",
      "<class 'tuple'>\n",
      "3\n"
     ]
    }
   ],
   "source": [
    "t = (1, 2, 3)\n",
    "print(t)\n",
    "print(type(t))\n",
    "print(t[2])"
   ]
  },
  {
   "cell_type": "code",
   "execution_count": 170,
   "id": "a228fba9-4228-4cb8-8b73-86ddacd665c1",
   "metadata": {},
   "outputs": [
    {
     "ename": "TypeError",
     "evalue": "'tuple' object does not support item assignment",
     "output_type": "error",
     "traceback": [
      "\u001b[1;31m---------------------------------------------------------------------------\u001b[0m",
      "\u001b[1;31mTypeError\u001b[0m                                 Traceback (most recent call last)",
      "Cell \u001b[1;32mIn[170], line 1\u001b[0m\n\u001b[1;32m----> 1\u001b[0m \u001b[43mt\u001b[49m\u001b[43m[\u001b[49m\u001b[38;5;241;43m2\u001b[39;49m\u001b[43m]\u001b[49m \u001b[38;5;241m=\u001b[39m \u001b[38;5;241m5\u001b[39m\n",
      "\u001b[1;31mTypeError\u001b[0m: 'tuple' object does not support item assignment"
     ]
    }
   ],
   "source": [
    "t[2] = 5"
   ]
  },
  {
   "cell_type": "code",
   "execution_count": 173,
   "id": "f89cab1d-5a20-49e3-aed1-caddbde1db73",
   "metadata": {},
   "outputs": [
    {
     "name": "stdout",
     "output_type": "stream",
     "text": [
      "1 2\n",
      "2 1\n"
     ]
    }
   ],
   "source": [
    "x, y = (1, 2)\n",
    "print(x, y)\n",
    "\n",
    "x, y = y, x\n",
    "print(x, y)"
   ]
  },
  {
   "cell_type": "markdown",
   "id": "80fc5e07-f3d4-4d5c-91bb-0b9026fc3e8b",
   "metadata": {},
   "source": [
    "### 4.3 range\n",
    "\n",
    "- range(n) : 0부터 n-1까지 범위\n",
    "- range(n, m) : n부터 m-1까지 범위\n",
    "- range(n, m, s) : n부터 m-1까지, +s만큼 증가하는 범위"
   ]
  },
  {
   "cell_type": "code",
   "execution_count": 174,
   "id": "5aa1c448-6206-4f18-935d-8c787ecd7324",
   "metadata": {},
   "outputs": [
    {
     "name": "stdout",
     "output_type": "stream",
     "text": [
      "<class 'range'>\n"
     ]
    }
   ],
   "source": [
    "a = range(1)\n",
    "print(type(a))"
   ]
  },
  {
   "cell_type": "code",
   "execution_count": 176,
   "id": "03812b68-42bb-4403-9485-c51d6d38db66",
   "metadata": {},
   "outputs": [
    {
     "name": "stdout",
     "output_type": "stream",
     "text": [
      "range(0, 10)\n",
      "[0, 1, 2, 3, 4, 5, 6, 7, 8, 9]\n"
     ]
    }
   ],
   "source": [
    "a = range(10)\n",
    "print(a)\n",
    "print(list(a))"
   ]
  },
  {
   "cell_type": "code",
   "execution_count": 177,
   "id": "87bf2161-4267-4cfc-a6d7-4dd0fc36ec77",
   "metadata": {},
   "outputs": [
    {
     "name": "stdout",
     "output_type": "stream",
     "text": [
      "[5, 6, 7, 8, 9, 10, 11, 12, 13, 14]\n"
     ]
    }
   ],
   "source": [
    "a = range(5, 15)\n",
    "print(list(a))"
   ]
  },
  {
   "cell_type": "code",
   "execution_count": 178,
   "id": "bd654180-e224-4a0e-af93-ed43bbe29620",
   "metadata": {},
   "outputs": [
    {
     "name": "stdout",
     "output_type": "stream",
     "text": [
      "[1, 3, 5, 7, 9]\n"
     ]
    }
   ],
   "source": [
    "a = range(1, 10, 2)\n",
    "print(list(a))"
   ]
  },
  {
   "cell_type": "code",
   "execution_count": 183,
   "id": "249770ed-13ff-4fdf-b8dd-2d60fc2442f2",
   "metadata": {},
   "outputs": [
    {
     "name": "stdout",
     "output_type": "stream",
     "text": [
      "[-1, -2, -3, -4, -5, -6, -7, -8, -9]\n"
     ]
    }
   ],
   "source": [
    "a = range(-1, -10, -1)\n",
    "print(list(a))"
   ]
  },
  {
   "cell_type": "markdown",
   "id": "8fa7461e-4b56-4adf-9207-3d0bd6c7ed68",
   "metadata": {},
   "source": [
    "### 4.4 String\n",
    "기본 데이터 구조 참고"
   ]
  },
  {
   "cell_type": "markdown",
   "id": "997ca00c-4f11-4acc-81d3-72daa44dbc85",
   "metadata": {},
   "source": [
    "### 4.5 시퀀스에서 활용가능한 연산/함수"
   ]
  },
  {
   "cell_type": "code",
   "execution_count": 194,
   "id": "d975a097-b8a1-40b3-8716-99e1927ffd48",
   "metadata": {},
   "outputs": [],
   "source": [
    "my_list = [1, 2, 3, 4, 5]\n",
    "my_tuple = (1, 2, 3, 4, 5)\n",
    "my_range = range(1, 100)\n",
    "my_string = '12345'"
   ]
  },
  {
   "cell_type": "code",
   "execution_count": 191,
   "id": "46dc68ee-08be-4beb-a6cb-1e28a327dc16",
   "metadata": {},
   "outputs": [
    {
     "name": "stdout",
     "output_type": "stream",
     "text": [
      "2\n",
      "2\n",
      "2\n",
      "2\n"
     ]
    }
   ],
   "source": [
    "# indexing\n",
    "print(my_list[1])\n",
    "print(my_tuple[1])\n",
    "print(my_range[1])\n",
    "print(my_string[1])"
   ]
  },
  {
   "cell_type": "code",
   "execution_count": 193,
   "id": "1d338fc6-bcd1-4ebd-8079-0b382be29388",
   "metadata": {},
   "outputs": [
    {
     "name": "stdout",
     "output_type": "stream",
     "text": [
      "[2, 3]\n",
      "(2, 3)\n",
      "range(2, 4)\n",
      "23\n"
     ]
    }
   ],
   "source": [
    "# slicing\n",
    "print(my_list[1:3])\n",
    "print(my_tuple[1:3])\n",
    "print(my_range[1:3])\n",
    "print(my_string[1:3])"
   ]
  },
  {
   "cell_type": "code",
   "execution_count": 197,
   "id": "291e8435-fc4c-433c-899d-38d2430b5e42",
   "metadata": {},
   "outputs": [
    {
     "data": {
      "text/plain": [
       "[3, 5]"
      ]
     },
     "execution_count": 197,
     "metadata": {},
     "output_type": "execute_result"
    }
   ],
   "source": [
    "# slicing (k간격으로)\n",
    "list(my_range[2:6:2])"
   ]
  },
  {
   "cell_type": "code",
   "execution_count": 199,
   "id": "a2d2f11d-c8f6-471b-a2c4-fa1f85130d44",
   "metadata": {},
   "outputs": [
    {
     "name": "stdout",
     "output_type": "stream",
     "text": [
      "True\n",
      "True\n",
      "True\n",
      "True\n"
     ]
    }
   ],
   "source": [
    "# in\n",
    "print(1 in my_list)\n",
    "print(1 in my_tuple)\n",
    "print(1 in my_range)\n",
    "print('1' in my_string)"
   ]
  },
  {
   "cell_type": "code",
   "execution_count": 200,
   "id": "2286ef04-57e7-4711-b026-95c2b408d9b7",
   "metadata": {},
   "outputs": [
    {
     "name": "stdout",
     "output_type": "stream",
     "text": [
      "False\n",
      "False\n",
      "False\n",
      "False\n"
     ]
    }
   ],
   "source": [
    "print(1 not in my_list)\n",
    "print(1 not in my_tuple)\n",
    "print(1 not in my_range)\n",
    "print('1' not in my_string)"
   ]
  },
  {
   "cell_type": "code",
   "execution_count": 201,
   "id": "37bfe3b0-b628-4b7c-af5f-c1a62e499144",
   "metadata": {},
   "outputs": [
    {
     "name": "stdout",
     "output_type": "stream",
     "text": [
      "[1, 2, 3, 4, 5, 1, 2, 3]\n"
     ]
    }
   ],
   "source": [
    "# concatenation\n",
    "print(my_list + [1, 2, 3])"
   ]
  },
  {
   "cell_type": "code",
   "execution_count": 203,
   "id": "ff95644f-7b25-4207-95cb-f33342089212",
   "metadata": {},
   "outputs": [
    {
     "name": "stdout",
     "output_type": "stream",
     "text": [
      "[0, 0, 0, 0, 0, 0, 0, 0, 0, 0]\n",
      "[[0, 0, 0, 0, 0, 0, 0, 0, 0, 0], [0, 0, 0, 0, 0, 0, 0, 0, 0, 0], [0, 0, 0, 0, 0, 0, 0, 0, 0, 0], [0, 0, 0, 0, 0, 0, 0, 0, 0, 0], [0, 0, 0, 0, 0, 0, 0, 0, 0, 0], [0, 0, 0, 0, 0, 0, 0, 0, 0, 0], [0, 0, 0, 0, 0, 0, 0, 0, 0, 0], [0, 0, 0, 0, 0, 0, 0, 0, 0, 0], [0, 0, 0, 0, 0, 0, 0, 0, 0, 0], [0, 0, 0, 0, 0, 0, 0, 0, 0, 0]]\n"
     ]
    }
   ],
   "source": [
    "# *\n",
    "print([0] * 10)\n",
    "print([[0] * 10] * 10)"
   ]
  },
  {
   "cell_type": "code",
   "execution_count": 207,
   "id": "b72d2d95-bb41-4b2a-afd0-a111215b894e",
   "metadata": {},
   "outputs": [
    {
     "name": "stdout",
     "output_type": "stream",
     "text": [
      "5\n",
      "1\n",
      "5\n"
     ]
    },
    {
     "data": {
      "text/plain": [
       "1"
      ]
     },
     "execution_count": 207,
     "metadata": {},
     "output_type": "execute_result"
    }
   ],
   "source": [
    "print(len(my_list))\n",
    "print(min(my_list))\n",
    "print(max(my_list))\n",
    "my_list.count(1)"
   ]
  },
  {
   "cell_type": "markdown",
   "id": "f3658ccc-158c-400d-8e67-c9a4da922a7c",
   "metadata": {},
   "source": [
    "## 5. 시퀀스 데이터가 아닌 자료구조\n",
    "\n",
    "### 5.1 Set\n",
    "수학에서 사용하는 집합과 동일하게 처리 (중복된 값이 없음)\n",
    "- 선언 : 변수이름 = {value1, value2, value3...}- "
   ]
  },
  {
   "cell_type": "code",
   "execution_count": 209,
   "id": "ead32b9c-05b6-462c-8213-8d463c7c87dc",
   "metadata": {},
   "outputs": [],
   "source": [
    "my_set_a = {1, 2, 3, 4, 5}\n",
    "my_set_b = {3, 4, 5, 6, 7}"
   ]
  },
  {
   "cell_type": "code",
   "execution_count": 212,
   "id": "d1debf2b-846a-447a-b616-88a2a850ea76",
   "metadata": {},
   "outputs": [
    {
     "name": "stdout",
     "output_type": "stream",
     "text": [
      "{1, 2}\n",
      "{1, 2, 3, 4, 5, 6, 7}\n",
      "{3, 4, 5}\n"
     ]
    }
   ],
   "source": [
    "print(my_set_a - my_set_b)\n",
    "print(my_set_a | my_set_b)\n",
    "print(my_set_a & my_set_b)"
   ]
  },
  {
   "cell_type": "code",
   "execution_count": 213,
   "id": "c5e42c4d-54ae-4950-b9c6-c6183f4f2e1c",
   "metadata": {},
   "outputs": [
    {
     "name": "stdout",
     "output_type": "stream",
     "text": [
      "{1, 2, 3, 4, 5, 6, 7}\n"
     ]
    }
   ],
   "source": [
    "my_list = [1, 1, 1, 1, 1, 1, 1, 1, 2, 3, 4, 5, 6, 7]\n",
    "print(set(my_list))"
   ]
  },
  {
   "cell_type": "markdown",
   "id": "f0c924c8-866d-4e83-a020-3d14c5a219ad",
   "metadata": {},
   "source": [
    "### 5.2 Dictionary"
   ]
  },
  {
   "cell_type": "markdown",
   "id": "9a8c2017-a2e6-4289-b470-e0f2bd0442e8",
   "metadata": {},
   "source": [
    "- 선언 : 변수이름 = {key1: value1, key2: value2, ...}\n",
    "- 접근 : 변수이름[key]\n",
    "\n",
    "- dictionary는 key와 value가 쌍으로 이루어져있다.\n",
    "- key에는 immutable한 모든것을 사용가능 (불변값 : string, integer)\n",
    "- value에는 모든 데이터 가능(list, dictionary도 가능)"
   ]
  },
  {
   "cell_type": "code",
   "execution_count": 219,
   "id": "328dd21e-5668-433a-849f-528e8c4c37e5",
   "metadata": {},
   "outputs": [
    {
     "data": {
      "text/plain": [
       "'02'"
      ]
     },
     "execution_count": 219,
     "metadata": {},
     "output_type": "execute_result"
    }
   ],
   "source": [
    "# 0으로 시작하면 2진수인지 10진수인지 파악하지 못해 에러 ( 02빼고 2는 가능)\n",
    "my_dict = {'서울': '02', '경기': '031'}\n",
    "my_dict['서울']"
   ]
  },
  {
   "cell_type": "code",
   "execution_count": 220,
   "id": "5895490f-4b44-44b5-b05d-fd43972afb72",
   "metadata": {},
   "outputs": [],
   "source": [
    "dict_a = {\n",
    "    'name': 'HYUNJUNE',\n",
    "    'location': 'seoul',\n",
    "    'location': 'seoul2'\n",
    "}"
   ]
  },
  {
   "cell_type": "code",
   "execution_count": 221,
   "id": "54efe228-3a89-48a0-85ed-11c272862387",
   "metadata": {},
   "outputs": [
    {
     "name": "stdout",
     "output_type": "stream",
     "text": [
      "{'name': 'HYUNJUNE', 'location': 'seoul2'}\n"
     ]
    }
   ],
   "source": [
    "print(dict_a)"
   ]
  },
  {
   "cell_type": "code",
   "execution_count": 222,
   "id": "0ec93132-afdf-417e-b4fc-5e13d200fe39",
   "metadata": {},
   "outputs": [
    {
     "data": {
      "text/plain": [
       "dict_keys(['name', 'location'])"
      ]
     },
     "execution_count": 222,
     "metadata": {},
     "output_type": "execute_result"
    }
   ],
   "source": [
    "dict_a.keys()"
   ]
  },
  {
   "cell_type": "code",
   "execution_count": 223,
   "id": "2bcf0c0f-f3bc-416a-ad40-0cb61959320a",
   "metadata": {},
   "outputs": [
    {
     "data": {
      "text/plain": [
       "dict_values(['HYUNJUNE', 'seoul2'])"
      ]
     },
     "execution_count": 223,
     "metadata": {},
     "output_type": "execute_result"
    }
   ],
   "source": [
    "dict_a.values()"
   ]
  },
  {
   "cell_type": "markdown",
   "id": "ad7426df-26fc-4c0b-a815-91429cc3c246",
   "metadata": {},
   "source": [
    "# 데이터 타입\n",
    "1. Number\n",
    "2. Boolean\n",
    "3. String\n",
    "\n",
    "# 자료구조\n",
    "-시퀀스 자료형\n",
    "1. [List] : mutable\n",
    "2. (Tuple) : immutable\n",
    "3. range() : immutable\n",
    "4. 'String' : immutable\n",
    "\n",
    "-시퀀스가 아닌 자료형\n",
    "1. {Set} : mutable\n",
    "2. {Dict: ionary} : mutable"
   ]
  },
  {
   "cell_type": "code",
   "execution_count": null,
   "id": "7e154d91-2014-44cd-b146-bcc78602875a",
   "metadata": {},
   "outputs": [],
   "source": []
  },
  {
   "cell_type": "code",
   "execution_count": null,
   "id": "78d1c634-778e-4178-b5b7-67075a100d7f",
   "metadata": {},
   "outputs": [],
   "source": []
  },
  {
   "cell_type": "code",
   "execution_count": null,
   "id": "bf6e7fb1-c993-4721-97f7-86159a7ff2dc",
   "metadata": {},
   "outputs": [],
   "source": []
  }
 ],
 "metadata": {
  "kernelspec": {
   "display_name": "Python 3 (ipykernel)",
   "language": "python",
   "name": "python3"
  },
  "language_info": {
   "codemirror_mode": {
    "name": "ipython",
    "version": 3
   },
   "file_extension": ".py",
   "mimetype": "text/x-python",
   "name": "python",
   "nbconvert_exporter": "python",
   "pygments_lexer": "ipython3",
   "version": "3.11.4"
  }
 },
 "nbformat": 4,
 "nbformat_minor": 5
}
