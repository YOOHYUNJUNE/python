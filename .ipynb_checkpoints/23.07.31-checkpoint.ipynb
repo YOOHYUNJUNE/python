{
 "cells": [
  {
   "cell_type": "markdown",
   "id": "c7fa1c6f-f0c6-4b39-84ed-7bad476280f1",
   "metadata": {},
   "source": [
    "# 1. 문자열 메소드"
   ]
  },
  {
   "cell_type": "code",
   "execution_count": 1,
   "id": "524277f6-2a25-4527-8ee7-070bca442dbc",
   "metadata": {},
   "outputs": [],
   "source": [
    "a = 'hello my name is HYUNJUN'"
   ]
  },
  {
   "cell_type": "code",
   "execution_count": 2,
   "id": "f0c25016-790e-4b71-aac3-eaed34048e4e",
   "metadata": {},
   "outputs": [
    {
     "ename": "TypeError",
     "evalue": "'str' object does not support item assignment",
     "output_type": "error",
     "traceback": [
      "\u001b[1;31m---------------------------------------------------------------------------\u001b[0m",
      "\u001b[1;31mTypeError\u001b[0m                                 Traceback (most recent call last)",
      "Cell \u001b[1;32mIn[2], line 1\u001b[0m\n\u001b[1;32m----> 1\u001b[0m \u001b[43ma\u001b[49m\u001b[43m[\u001b[49m\u001b[38;5;241;43m0\u001b[39;49m\u001b[43m]\u001b[49m \u001b[38;5;241m=\u001b[39m \u001b[38;5;124m'\u001b[39m\u001b[38;5;124mH\u001b[39m\u001b[38;5;124m'\u001b[39m\n",
      "\u001b[1;31mTypeError\u001b[0m: 'str' object does not support item assignment"
     ]
    }
   ],
   "source": [
    "a[0] = 'H'\n",
    "\n",
    "# str 타입은 수정 불가능"
   ]
  },
  {
   "cell_type": "code",
   "execution_count": 3,
   "id": "edc44471-18bd-428a-bb75-72c8a8c5afc4",
   "metadata": {},
   "outputs": [],
   "source": [
    "a = a.capitalize()\n",
    "\n",
    "# 문자열 a 원본은 바꿀 수 없으나 capitalize로 결과 변경 가능"
   ]
  },
  {
   "cell_type": "code",
   "execution_count": 4,
   "id": "8678da20-5b46-4312-8347-e7a353ec2ee9",
   "metadata": {},
   "outputs": [
    {
     "name": "stdout",
     "output_type": "stream",
     "text": [
      "Hello my name is hyunjun\n"
     ]
    }
   ],
   "source": [
    "print(a)"
   ]
  },
  {
   "cell_type": "code",
   "execution_count": 6,
   "id": "fd990476-bbbb-4999-8a31-b96dfb6a2fee",
   "metadata": {},
   "outputs": [
    {
     "data": {
      "text/plain": [
       "'Hello My Name Is Hyunjun'"
      ]
     },
     "execution_count": 6,
     "metadata": {},
     "output_type": "execute_result"
    }
   ],
   "source": [
    "a. title()\n",
    "\n",
    "# 앞자리 대문자"
   ]
  },
  {
   "cell_type": "code",
   "execution_count": 7,
   "id": "60664cdd-852b-4389-a7d9-69abdba045b5",
   "metadata": {},
   "outputs": [
    {
     "data": {
      "text/plain": [
       "'HELLO MY NAME IS HYUNJUN'"
      ]
     },
     "execution_count": 7,
     "metadata": {},
     "output_type": "execute_result"
    }
   ],
   "source": [
    "a. upper()\n",
    "\n",
    "# 대문자로"
   ]
  },
  {
   "cell_type": "code",
   "execution_count": 8,
   "id": "cd99b0a1-3faa-4d57-a78f-aa85315b8eb3",
   "metadata": {},
   "outputs": [
    {
     "data": {
      "text/plain": [
       "'hello my name is hyunjun'"
      ]
     },
     "execution_count": 8,
     "metadata": {},
     "output_type": "execute_result"
    }
   ],
   "source": [
    "a. lower()\n",
    "\n",
    "# 소문자로"
   ]
  },
  {
   "cell_type": "code",
   "execution_count": 9,
   "id": "83eaa664-928e-4eca-99b1-cff198e5ca24",
   "metadata": {},
   "outputs": [
    {
     "name": "stdout",
     "output_type": "stream",
     "text": [
      "Hello my name is hyunjun\n"
     ]
    }
   ],
   "source": [
    "print(a)"
   ]
  },
  {
   "cell_type": "code",
   "execution_count": 22,
   "id": "af7d70a1-9515-4e66-b9e5-1802861dc458",
   "metadata": {},
   "outputs": [
    {
     "name": "stdout",
     "output_type": "stream",
     "text": [
      "himyname123123(안녕)int(하세요)\n",
      "hi,my,name,123,123,(안녕),int(하세요)\n"
     ]
    }
   ],
   "source": [
    "# ''.join(iterable)\n",
    "my_list = ['hi', 'my', 'name', str(123), '123', '(안녕)', 'int(하세요)']\n",
    "print(''.join(my_list))\n",
    "print(','.join(my_list))"
   ]
  },
  {
   "cell_type": "code",
   "execution_count": 32,
   "id": "0c4cf225-ccef-4600-9b4b-b0b5ed93a949",
   "metadata": {},
   "outputs": [
    {
     "name": "stdout",
     "output_type": "stream",
     "text": [
      "w!!!!!!!ooow\n",
      "020406089\n"
     ]
    }
   ],
   "source": [
    "# .replace(old, new[, count])\n",
    "print('woooooooooow'.replace('o', '!', 7))\n",
    "print('123456789'.replace('1', '0').replace('3', '0').replace('5', '0').replace('7', '0'))"
   ]
  },
  {
   "cell_type": "code",
   "execution_count": 65,
   "id": "5fedc7dd-50f5-4be8-bcbc-1938221639a8",
   "metadata": {},
   "outputs": [
    {
     "name": "stdout",
     "output_type": "stream",
     "text": [
      "                     hello        1\n",
      "hello        1\n",
      "4 123 4\n"
     ]
    }
   ],
   "source": [
    "# .strip([chars]) 공백 제거\n",
    "my_string = '                     hello        1'\n",
    "print(my_string)\n",
    "print(my_string.strip( ))\n",
    "\n",
    "my_string2 = '12121211212121124 123 421211213212121'\n",
    "print(my_string2.strip('123'))"
   ]
  },
  {
   "cell_type": "code",
   "execution_count": null,
   "id": "b60ee4a6-6559-4845-8a03-4ec5b585929a",
   "metadata": {},
   "outputs": [],
   "source": []
  },
  {
   "cell_type": "code",
   "execution_count": null,
   "id": "70f07d8a-f80b-4a47-bf0e-92b958d76f54",
   "metadata": {},
   "outputs": [],
   "source": []
  },
  {
   "cell_type": "code",
   "execution_count": null,
   "id": "9175d5b7-7d5b-4e98-9c64-457ddaab76f7",
   "metadata": {},
   "outputs": [],
   "source": []
  },
  {
   "cell_type": "code",
   "execution_count": null,
   "id": "53049679-32c8-4ca2-8ae4-30a3b135fb39",
   "metadata": {},
   "outputs": [],
   "source": []
  },
  {
   "cell_type": "code",
   "execution_count": null,
   "id": "0b84642d-a206-4618-ba82-04cd7919024d",
   "metadata": {},
   "outputs": [],
   "source": []
  },
  {
   "cell_type": "code",
   "execution_count": null,
   "id": "9be61fbd-7aa9-4d51-b484-365ada4c6255",
   "metadata": {},
   "outputs": [],
   "source": []
  },
  {
   "cell_type": "code",
   "execution_count": null,
   "id": "c5a4d4d3-f178-414d-a797-aae2debca497",
   "metadata": {},
   "outputs": [],
   "source": []
  }
 ],
 "metadata": {
  "kernelspec": {
   "display_name": "Python 3 (ipykernel)",
   "language": "python",
   "name": "python3"
  },
  "language_info": {
   "codemirror_mode": {
    "name": "ipython",
    "version": 3
   },
   "file_extension": ".py",
   "mimetype": "text/x-python",
   "name": "python",
   "nbconvert_exporter": "python",
   "pygments_lexer": "ipython3",
   "version": "3.11.4"
  }
 },
 "nbformat": 4,
 "nbformat_minor": 5
}
