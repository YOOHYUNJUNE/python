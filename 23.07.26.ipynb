{
 "cells": [
  {
   "cell_type": "markdown",
   "id": "f00dbd25-7350-4916-961e-b2c7c9ef4fe3",
   "metadata": {},
   "source": [
    "# 01. intro\n",
    "\n",
    "# 단축키\n",
    "\n",
    "- ctrl + enter 지금 셀 실행\n",
    "- shift + enter 지금 셀 실행 + 아래로 이동\n",
    "- alt + enter 지금 셀 싱행 + 아래에 새로운 셀 추가\n",
    "\n",
    "# 주의사항\n",
    "\n",
    "1. 대소문자 주의\n",
    "2. 띄어쓰기 주의\n",
    "3. 스펠링 주의"
   ]
  },
  {
   "cell_type": "code",
   "execution_count": 3,
   "id": "1d5feced-70a0-4dfc-8834-4456f9798be2",
   "metadata": {},
   "outputs": [],
   "source": [
    "a = 100000"
   ]
  },
  {
   "cell_type": "code",
   "execution_count": 4,
   "id": "35b96521-3ee9-4ff6-86cf-95ec094eb6b5",
   "metadata": {},
   "outputs": [
    {
     "data": {
      "text/plain": [
       "100000"
      ]
     },
     "execution_count": 4,
     "metadata": {},
     "output_type": "execute_result"
    }
   ],
   "source": [
    "a"
   ]
  },
  {
   "cell_type": "code",
   "execution_count": 6,
   "id": "0f02a2da-82ea-42d7-bfcf-dead0b3b72fa",
   "metadata": {},
   "outputs": [],
   "source": [
    "b = 100,000"
   ]
  },
  {
   "cell_type": "code",
   "execution_count": 24,
   "id": "9962dde5-a2eb-467e-b757-27680569a20a",
   "metadata": {},
   "outputs": [
    {
     "data": {
      "text/plain": [
       "tuple"
      ]
     },
     "execution_count": 24,
     "metadata": {},
     "output_type": "execute_result"
    }
   ],
   "source": [
    "type(b)"
   ]
  },
  {
   "cell_type": "code",
   "execution_count": 25,
   "id": "fdaf16b4-6744-4bea-b083-b82ca70884f3",
   "metadata": {},
   "outputs": [
    {
     "data": {
      "text/plain": [
       "int"
      ]
     },
     "execution_count": 25,
     "metadata": {},
     "output_type": "execute_result"
    }
   ],
   "source": [
    "type(a)"
   ]
  },
  {
   "cell_type": "code",
   "execution_count": 26,
   "id": "70ef7d38-ffd0-4496-a0ec-e136a7c34490",
   "metadata": {},
   "outputs": [],
   "source": [
    "b = '100,000'"
   ]
  },
  {
   "cell_type": "code",
   "execution_count": 27,
   "id": "4db4bf9c-d081-43bc-9d4d-383ba2b5202d",
   "metadata": {},
   "outputs": [
    {
     "data": {
      "text/plain": [
       "str"
      ]
     },
     "execution_count": 27,
     "metadata": {},
     "output_type": "execute_result"
    }
   ],
   "source": [
    "type(b)"
   ]
  },
  {
   "cell_type": "code",
   "execution_count": 28,
   "id": "8ae15fd7-2fc5-407b-aadc-39a28da455de",
   "metadata": {},
   "outputs": [],
   "source": [
    "c = 2.2"
   ]
  },
  {
   "cell_type": "code",
   "execution_count": 29,
   "id": "df35a441-eb91-4275-9411-f7a4c6784373",
   "metadata": {},
   "outputs": [
    {
     "data": {
      "text/plain": [
       "float"
      ]
     },
     "execution_count": 29,
     "metadata": {},
     "output_type": "execute_result"
    }
   ],
   "source": [
    "type(c)"
   ]
  },
  {
   "cell_type": "code",
   "execution_count": 30,
   "id": "e263eaef-1354-4aee-8e68-90e184291267",
   "metadata": {},
   "outputs": [],
   "source": [
    "d = 1 - 5"
   ]
  },
  {
   "cell_type": "code",
   "execution_count": 31,
   "id": "0e32a571-34be-417e-9506-c719d251345c",
   "metadata": {},
   "outputs": [
    {
     "data": {
      "text/plain": [
       "int"
      ]
     },
     "execution_count": 31,
     "metadata": {},
     "output_type": "execute_result"
    }
   ],
   "source": [
    "type(d)"
   ]
  },
  {
   "cell_type": "code",
   "execution_count": 32,
   "id": "9fca621d-be8a-4069-b230-2aabbbf77ade",
   "metadata": {},
   "outputs": [
    {
     "data": {
      "text/plain": [
       "0"
      ]
     },
     "execution_count": 32,
     "metadata": {},
     "output_type": "execute_result"
    }
   ],
   "source": [
    "d.imag"
   ]
  },
  {
   "cell_type": "code",
   "execution_count": 33,
   "id": "3375f0e4-b04b-4fa1-bb6a-cf12357e0c35",
   "metadata": {},
   "outputs": [
    {
     "data": {
      "text/plain": [
       "-4"
      ]
     },
     "execution_count": 33,
     "metadata": {},
     "output_type": "execute_result"
    }
   ],
   "source": [
    "d.real"
   ]
  },
  {
   "cell_type": "code",
   "execution_count": 45,
   "id": "741e639a-0965-43c3-a3d5-7e23d9f0bb3b",
   "metadata": {},
   "outputs": [],
   "source": [
    "e = 111 - 222j"
   ]
  },
  {
   "cell_type": "code",
   "execution_count": 50,
   "id": "2423c997-b4e4-4a0d-b5ab-f97b9e00377a",
   "metadata": {},
   "outputs": [
    {
     "name": "stdout",
     "output_type": "stream",
     "text": [
      "-222.0\n",
      "111.0\n"
     ]
    }
   ],
   "source": [
    "print(e.imag)\n",
    "print(e.real)"
   ]
  },
  {
   "cell_type": "code",
   "execution_count": 48,
   "id": "fab8b9a8-a59b-4193-9ddc-82f263af5693",
   "metadata": {},
   "outputs": [
    {
     "data": {
      "text/plain": [
       "-222.0"
      ]
     },
     "execution_count": 48,
     "metadata": {},
     "output_type": "execute_result"
    }
   ],
   "source": [
    "e.imag"
   ]
  },
  {
   "cell_type": "code",
   "execution_count": 49,
   "id": "e182fe69-efa7-44d5-bd24-ccd0c323ff80",
   "metadata": {},
   "outputs": [
    {
     "data": {
      "text/plain": [
       "111.0"
      ]
     },
     "execution_count": 49,
     "metadata": {},
     "output_type": "execute_result"
    }
   ],
   "source": [
    "e.real"
   ]
  },
  {
   "cell_type": "code",
   "execution_count": 53,
   "id": "03913cc0-5d17-4619-95e7-1b4adcaf778d",
   "metadata": {},
   "outputs": [],
   "source": [
    "a = True\n",
    "b = False"
   ]
  },
  {
   "cell_type": "code",
   "execution_count": 55,
   "id": "5cd495f5-ff5d-44fc-95c2-2db51bc1ff1a",
   "metadata": {},
   "outputs": [
    {
     "name": "stdout",
     "output_type": "stream",
     "text": [
      "<class 'bool'>\n",
      "<class 'bool'>\n"
     ]
    }
   ],
   "source": [
    "print(type(a))\n",
    "print(type(b))"
   ]
  },
  {
   "cell_type": "code",
   "execution_count": 56,
   "id": "3d5b67bc-b851-4a98-a0bf-920083b86090",
   "metadata": {},
   "outputs": [
    {
     "name": "stdout",
     "output_type": "stream",
     "text": [
      "True\n",
      "False\n"
     ]
    }
   ],
   "source": [
    "print(bool(a))\n",
    "print(bool(b))"
   ]
  },
  {
   "cell_type": "code",
   "execution_count": 58,
   "id": "247876f8-5553-4ea6-805a-7238ed9abb95",
   "metadata": {},
   "outputs": [
    {
     "name": "stdout",
     "output_type": "stream",
     "text": [
      "False\n"
     ]
    }
   ],
   "source": [
    "print(bool(0))"
   ]
  },
  {
   "cell_type": "code",
   "execution_count": 59,
   "id": "00122d85-3ae4-4fe3-9c60-d72715503d7f",
   "metadata": {},
   "outputs": [
    {
     "data": {
      "text/plain": [
       "True"
      ]
     },
     "execution_count": 59,
     "metadata": {},
     "output_type": "execute_result"
    }
   ],
   "source": [
    "bool(243322432)"
   ]
  },
  {
   "cell_type": "code",
   "execution_count": 60,
   "id": "3ba81ecb-dcd5-4fb6-bccc-8b524e9774e2",
   "metadata": {},
   "outputs": [
    {
     "data": {
      "text/plain": [
       "True"
      ]
     },
     "execution_count": 60,
     "metadata": {},
     "output_type": "execute_result"
    }
   ],
   "source": [
    "bool(-1)"
   ]
  },
  {
   "cell_type": "code",
   "execution_count": 61,
   "id": "6af7a359-4dd7-4f40-a549-445c08c558f1",
   "metadata": {},
   "outputs": [
    {
     "data": {
      "text/plain": [
       "True"
      ]
     },
     "execution_count": 61,
     "metadata": {},
     "output_type": "execute_result"
    }
   ],
   "source": [
    "bool([-482])"
   ]
  },
  {
   "cell_type": "code",
   "execution_count": 62,
   "id": "64c9df11-9f3f-4143-b9f3-8c6841acc386",
   "metadata": {},
   "outputs": [
    {
     "data": {
      "text/plain": [
       "False"
      ]
     },
     "execution_count": 62,
     "metadata": {},
     "output_type": "execute_result"
    }
   ],
   "source": [
    "bool()"
   ]
  },
  {
   "cell_type": "code",
   "execution_count": 64,
   "id": "41e54d24-f6da-4090-9ab7-c420807ff902",
   "metadata": {},
   "outputs": [
    {
     "data": {
      "text/plain": [
       "False"
      ]
     },
     "execution_count": 64,
     "metadata": {},
     "output_type": "execute_result"
    }
   ],
   "source": [
    "bool([])"
   ]
  },
  {
   "cell_type": "code",
   "execution_count": 82,
   "id": "7776fd7d-1370-4436-8d5a-3ecb5bcf02ba",
   "metadata": {},
   "outputs": [
    {
     "name": "stdout",
     "output_type": "stream",
     "text": [
      "True\n",
      "False\n",
      "False\n",
      "False\n",
      "False\n",
      "False\n",
      "False\n",
      "True\n",
      "False\n",
      "True\n"
     ]
    }
   ],
   "source": [
    "print(bool([0]))\n",
    "print(bool(0))\n",
    "print(bool(1-1))\n",
    "print(bool(-2+2))\n",
    "print(bool(a-a))\n",
    "print(bool(True-True))\n",
    "print(bool(False+False))\n",
    "print(bool(True-False))\n",
    "print(bool(False-False))\n",
    "print(bool(False-True))"
   ]
  },
  {
   "cell_type": "code",
   "execution_count": 81,
   "id": "6b2f40d1-ce7c-4ff2-9ba2-1522d4a83d5f",
   "metadata": {},
   "outputs": [],
   "source": [
    "a = 1"
   ]
  },
  {
   "cell_type": "code",
   "execution_count": 83,
   "id": "b3520eb8-588c-4a27-9cd5-ef75a0cc4bc0",
   "metadata": {},
   "outputs": [],
   "source": [
    "a = None"
   ]
  },
  {
   "cell_type": "code",
   "execution_count": 86,
   "id": "b25141a8-2cc3-46fc-89b7-620671c1606d",
   "metadata": {},
   "outputs": [
    {
     "name": "stdout",
     "output_type": "stream",
     "text": [
      "None\n"
     ]
    }
   ],
   "source": [
    "print(a)"
   ]
  },
  {
   "cell_type": "code",
   "execution_count": 87,
   "id": "e1faa692-7a62-49ae-af5c-d0d9f41a79b9",
   "metadata": {},
   "outputs": [
    {
     "data": {
      "text/plain": [
       "NoneType"
      ]
     },
     "execution_count": 87,
     "metadata": {},
     "output_type": "execute_result"
    }
   ],
   "source": [
    "type(a)"
   ]
  },
  {
   "cell_type": "code",
   "execution_count": 88,
   "id": "156fba75-9067-4435-a52c-7680eead032d",
   "metadata": {},
   "outputs": [],
   "source": [
    "a = 'hello'\n",
    "b = 'wolrd'"
   ]
  },
  {
   "cell_type": "code",
   "execution_count": 90,
   "id": "30d60846-1dd6-4060-9d3a-7e072a41c251",
   "metadata": {},
   "outputs": [
    {
     "name": "stdout",
     "output_type": "stream",
     "text": [
      "hellowolrda\n"
     ]
    }
   ],
   "source": [
    "print(a+b+'a')"
   ]
  },
  {
   "cell_type": "code",
   "execution_count": 92,
   "id": "bf7af8bd-a71e-4c48-ab55-ab04ccd7b2f9",
   "metadata": {},
   "outputs": [
    {
     "name": "stdout",
     "output_type": "stream",
     "text": [
      "hello wolrd\n"
     ]
    }
   ],
   "source": [
    "print(a, b)"
   ]
  },
  {
   "cell_type": "code",
   "execution_count": 93,
   "id": "8b1115a3-83eb-4c7e-ba40-9083a99f9d94",
   "metadata": {},
   "outputs": [
    {
     "name": "stdout",
     "output_type": "stream",
     "text": [
      "hello wolrd\n"
     ]
    }
   ],
   "source": [
    "print(a,        b)"
   ]
  },
  {
   "cell_type": "code",
   "execution_count": 95,
   "id": "0de69bfe-87e7-4cd9-9e33-b71a9984038b",
   "metadata": {},
   "outputs": [
    {
     "name": "stdout",
     "output_type": "stream",
     "text": [
      "hello wolrda\n"
     ]
    }
   ],
   "source": [
    "print(a, b + 'a')"
   ]
  },
  {
   "cell_type": "code",
   "execution_count": 116,
   "id": "0eb01cfc-0415-4648-a8ee-e442f3d77b23",
   "metadata": {},
   "outputs": [],
   "source": [
    "a = '123'\n",
    "b = 456"
   ]
  },
  {
   "cell_type": "code",
   "execution_count": 117,
   "id": "d188d41e-6078-434e-975d-23f031d928f8",
   "metadata": {},
   "outputs": [
    {
     "name": "stdout",
     "output_type": "stream",
     "text": [
      "123\n",
      "456\n"
     ]
    }
   ],
   "source": [
    "print(str(a))\n",
    "print(str(b))"
   ]
  },
  {
   "cell_type": "code",
   "execution_count": 121,
   "id": "651a75ea-1105-4b22-b255-964a7f2a82b7",
   "metadata": {},
   "outputs": [
    {
     "data": {
      "text/plain": [
       "('123', 456)"
      ]
     },
     "execution_count": 121,
     "metadata": {},
     "output_type": "execute_result"
    }
   ],
   "source": [
    "str(123), 456"
   ]
  },
  {
   "cell_type": "code",
   "execution_count": 122,
   "id": "2bf2c204-1819-4460-b85c-c4219f378115",
   "metadata": {},
   "outputs": [
    {
     "data": {
      "text/plain": [
       "'123456'"
      ]
     },
     "execution_count": 122,
     "metadata": {},
     "output_type": "execute_result"
    }
   ],
   "source": [
    "'123' + '456'"
   ]
  },
  {
   "cell_type": "code",
   "execution_count": 123,
   "id": "0b59b463-1be2-40de-9897-ff5702702fd8",
   "metadata": {},
   "outputs": [
    {
     "data": {
      "text/plain": [
       "('123', '456')"
      ]
     },
     "execution_count": 123,
     "metadata": {},
     "output_type": "execute_result"
    }
   ],
   "source": [
    "'123', '456'"
   ]
  },
  {
   "cell_type": "code",
   "execution_count": 124,
   "id": "8efe8b00-006a-46c6-a3fb-2b7fdb361c57",
   "metadata": {},
   "outputs": [
    {
     "data": {
      "text/plain": [
       "'123456'"
      ]
     },
     "execution_count": 124,
     "metadata": {},
     "output_type": "execute_result"
    }
   ],
   "source": [
    "('123') + '456'"
   ]
  },
  {
   "cell_type": "code",
   "execution_count": 125,
   "id": "7268549b-fd93-4269-ab90-907a3633bf2d",
   "metadata": {},
   "outputs": [
    {
     "data": {
      "text/plain": [
       "('123', 456)"
      ]
     },
     "execution_count": 125,
     "metadata": {},
     "output_type": "execute_result"
    }
   ],
   "source": [
    "a = 123\n",
    "b = 456\n",
    "str(a), b"
   ]
  },
  {
   "cell_type": "code",
   "execution_count": 136,
   "id": "131a3d03-56d4-4a1f-9ba2-a5a096224742",
   "metadata": {},
   "outputs": [],
   "source": [
    "a = '123'\n",
    "b = '456'"
   ]
  },
  {
   "cell_type": "code",
   "execution_count": 140,
   "id": "43d8cea5-77e5-4759-9c3b-68b62dbbba06",
   "metadata": {},
   "outputs": [
    {
     "name": "stdout",
     "output_type": "stream",
     "text": [
      "123456\n",
      "ab\n",
      "123 456\n",
      "123 456\n",
      "123 456\n",
      "123456\n",
      "579\n"
     ]
    }
   ],
   "source": [
    "print(a + b)\n",
    "print('a' + 'b')\n",
    "print(a,b)\n",
    "print(str(a), b)\n",
    "print(int(a), b)\n",
    "print(str(a) + b)\n",
    "print(int(a) + int(b))"
   ]
  },
  {
   "cell_type": "code",
   "execution_count": 141,
   "id": "4b7b1e1c-2d13-4fb9-a33b-cd99274a125c",
   "metadata": {},
   "outputs": [],
   "source": [
    "c = 'hello'\n",
    "d = 'world'"
   ]
  },
  {
   "cell_type": "code",
   "execution_count": 148,
   "id": "33456092-e1d0-4c67-8865-14cb04514c00",
   "metadata": {},
   "outputs": [
    {
     "data": {
      "text/plain": [
       "5"
      ]
     },
     "execution_count": 148,
     "metadata": {},
     "output_type": "execute_result"
    }
   ],
   "source": [
    "len('hello')"
   ]
  },
  {
   "cell_type": "code",
   "execution_count": 150,
   "id": "a5f8da0c-eeee-44b6-9bab-0e7d63351cad",
   "metadata": {},
   "outputs": [
    {
     "data": {
      "text/plain": [
       "5"
      ]
     },
     "execution_count": 150,
     "metadata": {},
     "output_type": "execute_result"
    }
   ],
   "source": [
    "len(c)"
   ]
  },
  {
   "cell_type": "code",
   "execution_count": 151,
   "id": "7d33a259-8a1e-4787-bfc2-bb8eb23c9f22",
   "metadata": {},
   "outputs": [
    {
     "name": "stdout",
     "output_type": "stream",
     "text": [
      "10\n"
     ]
    }
   ],
   "source": [
    "print(len(c) + len(d))"
   ]
  },
  {
   "cell_type": "code",
   "execution_count": 154,
   "id": "98878d72-8054-4df4-b752-d6c97fe461d8",
   "metadata": {},
   "outputs": [
    {
     "name": "stdout",
     "output_type": "stream",
     "text": [
      "<class 'int'>\n",
      "<class 'str'>\n"
     ]
    }
   ],
   "source": [
    "print(type(len(c)))\n",
    "print(type(c))"
   ]
  },
  {
   "cell_type": "code",
   "execution_count": 158,
   "id": "9306024d-caac-44d9-96d0-700193a010f1",
   "metadata": {},
   "outputs": [
    {
     "name": "stdin",
     "output_type": "stream",
     "text": [
      " 100\n"
     ]
    },
    {
     "name": "stdout",
     "output_type": "stream",
     "text": [
      "100\n",
      "<class 'str'>\n",
      "<class 'str'>\n",
      "3\n",
      "3\n",
      "<class 'str'>\n"
     ]
    }
   ],
   "source": [
    "age = input()\n",
    "print(age)\n",
    "print(type(age))\n",
    "print(type('age'))\n",
    "print(len(age))\n",
    "print(len('age'))\n",
    "print(type(age))"
   ]
  },
  {
   "cell_type": "code",
   "execution_count": 344,
   "id": "8487d7ec-3696-46f8-ad14-b4fb55d10404",
   "metadata": {},
   "outputs": [
    {
     "name": "stdout",
     "output_type": "stream",
     "text": [
      "hello \n",
      "b\n",
      "a \n",
      "b\n",
      "helloworld\n",
      "a  b\n"
     ]
    }
   ],
   "source": [
    "a = 'hello'\n",
    "b = 'world'\n",
    "print('hello \\nb')\n",
    "print('a \\nb')\n",
    "print(a + b)\n",
    "print('a  b')"
   ]
  },
  {
   "cell_type": "code",
   "execution_count": 185,
   "id": "fdc8f21d-daa6-4895-be70-7e91a8366559",
   "metadata": {},
   "outputs": [
    {
     "name": "stdout",
     "output_type": "stream",
     "text": [
      "hello\n",
      "world\n",
      "a\n",
      "b\n"
     ]
    }
   ],
   "source": [
    "print(a, b, sep='\\n')\n",
    "print('a', 'b', sep='\\n')"
   ]
  },
  {
   "cell_type": "code",
   "execution_count": null,
   "id": "174712ed-0a83-4e02-b3a9-5cc443b7643b",
   "metadata": {},
   "outputs": [],
   "source": []
  },
  {
   "cell_type": "code",
   "execution_count": 188,
   "id": "83ce208f-aee1-46a8-b45b-01e0b92be1e5",
   "metadata": {},
   "outputs": [],
   "source": [
    "호 = 303"
   ]
  },
  {
   "cell_type": "code",
   "execution_count": 342,
   "id": "4ffcfa7f-82eb-4a4d-8d45-42753876a9c2",
   "metadata": {},
   "outputs": [
    {
     "name": "stdout",
     "output_type": "stream",
     "text": [
      "저는 303.000000 호에 살고 있습니다.\n",
      "저는 303 호에 살고 있습니다.\n",
      "저는 303 호에 살고 있습니다.\n",
      "저는 303 호에 살고 있습니다.\n",
      "저는 303 호에 살고 있습니다.\n",
      "저는 303 호에 살고 있습니다.\n",
      "저는 303 호에 살고 있습니다.\n",
      "저는 3.030000e+02 호에 살고 있습니다.\n",
      "저는 303 호에 살고 있습니다.\n",
      "저는 457 호에 살고 있습니다.\n",
      "저는 303 호에 살고 있습니다.\n",
      "저는 į 호에 살고 있습니다.\n",
      "저는 12f 호에 살고 있습니다.\n"
     ]
    }
   ],
   "source": [
    "###\n",
    "print('저는 %f 호에 살고 있습니다.' % 호)\n",
    "print('저는 %a 호에 살고 있습니다.' % 호)\n",
    "print('저는 %s 호에 살고 있습니다.' % 호)\n",
    "print('저는 %d 호에 살고 있습니다.' % 호)\n",
    "print('저는 %g 호에 살고 있습니다.' % 호)\n",
    "print('저는 %a 호에 살고 있습니다.' % 호)\n",
    "print('저는 %a 호에 살고 있습니다.' % 호)\n",
    "print('저는 %e 호에 살고 있습니다.' % 호)\n",
    "print('저는 %r 호에 살고 있습니다.' % 호)\n",
    "print('저는 %o 호에 살고 있습니다.' % 호)\n",
    "print('저는 %i 호에 살고 있습니다.' % 호)\n",
    "print('저는 %c 호에 살고 있습니다.' % 호)\n",
    "print('저는 %x 호에 살고 있습니다.' % 호)"
   ]
  },
  {
   "cell_type": "code",
   "execution_count": 232,
   "id": "09d7acd3-7894-421c-bc89-f98475ba9367",
   "metadata": {},
   "outputs": [
    {
     "name": "stdout",
     "output_type": "stream",
     "text": [
      "저는 303호에 살고 있습니다.\n",
      "저는 303호에 살고 있습니다.\n"
     ]
    }
   ],
   "source": [
    "print('저는 {}호에 살고 있습니다.' .format(호))\n",
    "print(f'저는 {호}호에 살고 있습니다.')"
   ]
  },
  {
   "cell_type": "code",
   "execution_count": 236,
   "id": "5d94f678-8958-43cf-9e90-007054129a89",
   "metadata": {},
   "outputs": [
    {
     "name": "stdout",
     "output_type": "stream",
     "text": [
      "False\n"
     ]
    }
   ],
   "source": [
    "print(not True)"
   ]
  },
  {
   "cell_type": "code",
   "execution_count": 237,
   "id": "de552f8e-095f-4618-a668-d16101a01182",
   "metadata": {},
   "outputs": [],
   "source": [
    "a = 1"
   ]
  },
  {
   "cell_type": "code",
   "execution_count": 254,
   "id": "1bc9063d-d0b7-4091-acdc-92a8309a2e16",
   "metadata": {},
   "outputs": [],
   "source": [
    "a += a + 1"
   ]
  },
  {
   "cell_type": "code",
   "execution_count": 255,
   "id": "53e81ac5-4aa0-4098-ae2e-9c85889211b3",
   "metadata": {},
   "outputs": [
    {
     "data": {
      "text/plain": [
       "127"
      ]
     },
     "execution_count": 255,
     "metadata": {},
     "output_type": "execute_result"
    }
   ],
   "source": [
    "a"
   ]
  },
  {
   "cell_type": "code",
   "execution_count": 252,
   "id": "269c7405-b337-448e-ae72-743ddad13815",
   "metadata": {},
   "outputs": [
    {
     "name": "stdout",
     "output_type": "stream",
     "text": [
      "31\n"
     ]
    }
   ],
   "source": [
    "print(a)"
   ]
  },
  {
   "cell_type": "code",
   "execution_count": 269,
   "id": "ae1f3b7e-7645-4b1a-b094-27c014031ba6",
   "metadata": {},
   "outputs": [],
   "source": [
    "a = 1\n",
    "a += a + 1"
   ]
  },
  {
   "cell_type": "code",
   "execution_count": 280,
   "id": "5b1bc692-3c7d-431e-b02f-53970ba27184",
   "metadata": {},
   "outputs": [
    {
     "name": "stdout",
     "output_type": "stream",
     "text": [
      "3\n"
     ]
    }
   ],
   "source": [
    "print(a)"
   ]
  },
  {
   "cell_type": "code",
   "execution_count": 306,
   "id": "53eabc7e-c58a-42d0-8389-66d3bb5bdeb9",
   "metadata": {},
   "outputs": [],
   "source": [
    "a = [1, 2, 3, 4]\n",
    "b = [4, 5, 6]\n",
    "c = [1, 2, 3, 4, 5, 6, 7]\n",
    "d = [[1, 2, 3, 4], 5, 6, 7]"
   ]
  },
  {
   "cell_type": "code",
   "execution_count": 303,
   "id": "dd8b1b87-8055-44e2-b58f-f7daf328de44",
   "metadata": {},
   "outputs": [
    {
     "data": {
      "text/plain": [
       "[1, 2, 3, 4, 4, 5, 6, 1, 2, 3, 4, 5, 6, 7]"
      ]
     },
     "execution_count": 303,
     "metadata": {},
     "output_type": "execute_result"
    }
   ],
   "source": [
    "a + b + c"
   ]
  },
  {
   "cell_type": "code",
   "execution_count": 307,
   "id": "b0ee73e0-82ab-46c3-9142-87b31e3cf807",
   "metadata": {},
   "outputs": [
    {
     "name": "stdout",
     "output_type": "stream",
     "text": [
      "False\n",
      "False\n",
      "True\n"
     ]
    }
   ],
   "source": [
    "print(a in c)\n",
    "print(b in c)\n",
    "print(a in d)"
   ]
  },
  {
   "cell_type": "code",
   "execution_count": 308,
   "id": "ceda7b37-0d39-4592-b6cc-509b5d848de1",
   "metadata": {},
   "outputs": [],
   "source": [
    "a = True\n",
    "b = False\n",
    "c = 4\n",
    "d = 10"
   ]
  },
  {
   "cell_type": "code",
   "execution_count": 326,
   "id": "74bfc7c6-8143-4c8d-8bca-ce5779c77305",
   "metadata": {},
   "outputs": [
    {
     "name": "stdout",
     "output_type": "stream",
     "text": [
      "2\n",
      "1\n",
      "1\n",
      "3\n",
      "2.0\n",
      "0\n",
      "1\n",
      "1\n",
      "0.1\n",
      "0.0\n"
     ]
    }
   ],
   "source": [
    "print(a + a)\n",
    "print(a + b)\n",
    "print(a - b)\n",
    "print(c - a)\n",
    "print(c/(a+a))\n",
    "print(b - b)\n",
    "print(a - b)\n",
    "print(a * a * a)\n",
    "print(a / d)\n",
    "print(b / a)"
   ]
  },
  {
   "cell_type": "code",
   "execution_count": 328,
   "id": "6f668e16-ca1c-41c0-93a4-69a3706d2e1d",
   "metadata": {},
   "outputs": [
    {
     "data": {
      "text/plain": [
       "1"
      ]
     },
     "execution_count": 328,
     "metadata": {},
     "output_type": "execute_result"
    }
   ],
   "source": [
    "int(True)"
   ]
  },
  {
   "cell_type": "code",
   "execution_count": 329,
   "id": "00a433d0-ebe6-4b44-8de3-6199376ad4c8",
   "metadata": {},
   "outputs": [
    {
     "data": {
      "text/plain": [
       "0"
      ]
     },
     "execution_count": 329,
     "metadata": {},
     "output_type": "execute_result"
    }
   ],
   "source": [
    "int(False)"
   ]
  },
  {
   "cell_type": "code",
   "execution_count": 331,
   "id": "83ae0410-cb5e-4179-9017-1ff6e111778e",
   "metadata": {},
   "outputs": [
    {
     "data": {
      "text/plain": [
       "True"
      ]
     },
     "execution_count": 331,
     "metadata": {},
     "output_type": "execute_result"
    }
   ],
   "source": [
    "bool(True)"
   ]
  },
  {
   "cell_type": "code",
   "execution_count": 341,
   "id": "fe21ec65-aff3-4821-87a5-7be60b0e863f",
   "metadata": {},
   "outputs": [
    {
     "name": "stdout",
     "output_type": "stream",
     "text": [
      "False\n",
      "False [1] [1, 2]\n",
      "True\n",
      "True\n"
     ]
    }
   ],
   "source": [
    "####\n",
    "print(bool([]))\n",
    "print(bool([]), [1], [1,2])\n",
    "print(bool([1]))\n",
    "print(bool([0]))"
   ]
  },
  {
   "cell_type": "code",
   "execution_count": 346,
   "id": "2ee69b80-b035-4455-89b9-5f1c68f755a2",
   "metadata": {},
   "outputs": [
    {
     "name": "stdout",
     "output_type": "stream",
     "text": [
      "[]\n",
      "<class 'list'>\n"
     ]
    }
   ],
   "source": [
    "a1 = []\n",
    "print(a1)\n",
    "print(type(a1))"
   ]
  },
  {
   "cell_type": "code",
   "execution_count": 349,
   "id": "90908437-2dbe-42df-a21c-d84cee5ee42c",
   "metadata": {},
   "outputs": [
    {
     "name": "stdout",
     "output_type": "stream",
     "text": [
      "['서울', '도쿄', '베이징']\n",
      "서울\n",
      "['서울', '도쿄', '경기']\n"
     ]
    }
   ],
   "source": [
    "지역 = ['서울', '도쿄', '베이징']\n",
    "print(지역)\n",
    "print(지역[0])\n",
    "지역[2] = '경기'\n",
    "print(지역)"
   ]
  },
  {
   "cell_type": "code",
   "execution_count": 364,
   "id": "9854d832-2357-4fda-91bd-4907ac5759d7",
   "metadata": {},
   "outputs": [
    {
     "name": "stdout",
     "output_type": "stream",
     "text": [
      "[1, 2, 3, 4, 5, 6]\n",
      "[1, 2, 3, 4, 5, 6, 1, 2, 3, 4, 5, 6, 1, 2, 3, 4, 5, 6]\n",
      "[]\n",
      "[1, 2, 3, 4, 5, 7]\n"
     ]
    },
    {
     "data": {
      "text/plain": [
       "6"
      ]
     },
     "execution_count": 364,
     "metadata": {},
     "output_type": "execute_result"
    }
   ],
   "source": [
    "행렬 = [1, 2, 3, 4, 5, 6]\n",
    "print(행렬)\n",
    "print(행렬 * 3)\n",
    "print(행렬 * 0)\n",
    "type(행렬)\n",
    "행렬[5] = 7\n",
    "print(행렬)\n",
    "행렬[-6] = 0\n",
    "len(행렬)"
   ]
  },
  {
   "cell_type": "code",
   "execution_count": 373,
   "id": "5a5130a0-97a8-4786-b7f6-e5f8053ed1e0",
   "metadata": {},
   "outputs": [],
   "source": [
    "t = (1, 2, 3, 4, 5, 6, 7, 8, 9, 10)\n",
    "y = (5, 10, 15, 20)"
   ]
  },
  {
   "cell_type": "code",
   "execution_count": 387,
   "id": "e9b53fd7-eb27-488b-9de2-5dddd233036b",
   "metadata": {},
   "outputs": [
    {
     "name": "stdout",
     "output_type": "stream",
     "text": [
      "(1, 2, 3, 4, 5, 6, 7, 8, 9, 10) (5, 10, 15, 20)\n",
      "(1, 2, 3, 4, 5, 6, 7, 8, 9, 10, 5, 10, 15, 20)\n",
      "22\n",
      "8\n",
      "10\n"
     ]
    }
   ],
   "source": [
    "print(t, y)\n",
    "print(t + y)\n",
    "print(t[1] + y[3])\n",
    "print(t[-3])\n",
    "print(len(t))"
   ]
  },
  {
   "cell_type": "code",
   "execution_count": 393,
   "id": "93cc70ec-f492-4560-9f89-4bc571bd20cf",
   "metadata": {},
   "outputs": [],
   "source": [
    "a = [1, 2, 3, 4, 5]\n",
    "b = (1, 2, 3, 4, 5)\n",
    "c = range(1, 5)\n",
    "d = 'range(1, 5)'"
   ]
  },
  {
   "cell_type": "code",
   "execution_count": 394,
   "id": "61fc9eb5-25eb-4a00-ac39-79383f2cb3a3",
   "metadata": {},
   "outputs": [
    {
     "name": "stdout",
     "output_type": "stream",
     "text": [
      "<class 'list'>\n",
      "<class 'tuple'>\n",
      "<class 'range'>\n",
      "<class 'str'>\n"
     ]
    }
   ],
   "source": [
    "print(type(a))\n",
    "print(type(b))\n",
    "print(type(c))\n",
    "print(type(d))"
   ]
  },
  {
   "cell_type": "code",
   "execution_count": null,
   "id": "a2648176-eb95-4bc8-a98f-159cb9c3bbad",
   "metadata": {},
   "outputs": [],
   "source": []
  },
  {
   "cell_type": "code",
   "execution_count": null,
   "id": "67dc10ed-92d9-44f9-a44b-2778afe9539f",
   "metadata": {},
   "outputs": [],
   "source": []
  },
  {
   "cell_type": "code",
   "execution_count": null,
   "id": "3db7e254-c84e-45be-be63-dc10e37a2c60",
   "metadata": {},
   "outputs": [],
   "source": []
  },
  {
   "cell_type": "code",
   "execution_count": null,
   "id": "2fa1e823-78cc-44fa-9b41-ae3a6a35d506",
   "metadata": {},
   "outputs": [],
   "source": []
  },
  {
   "cell_type": "code",
   "execution_count": null,
   "id": "7aa270c4-6afc-4625-8f8c-aa5376a233a7",
   "metadata": {},
   "outputs": [],
   "source": []
  },
  {
   "cell_type": "code",
   "execution_count": null,
   "id": "c92a535a-57bf-49e4-9ff8-331b95205277",
   "metadata": {},
   "outputs": [],
   "source": []
  },
  {
   "cell_type": "code",
   "execution_count": null,
   "id": "179f384b-01dc-4ca4-9286-6fb8ccbab7cf",
   "metadata": {},
   "outputs": [],
   "source": []
  },
  {
   "cell_type": "code",
   "execution_count": null,
   "id": "9590cf01-5ac7-42ce-b83b-721cb05f8caf",
   "metadata": {},
   "outputs": [],
   "source": []
  },
  {
   "cell_type": "code",
   "execution_count": null,
   "id": "5b31b0dd-36ad-4537-a001-06b93dbaae23",
   "metadata": {},
   "outputs": [],
   "source": []
  },
  {
   "cell_type": "code",
   "execution_count": null,
   "id": "9e0e79c4-eba2-42e0-bb98-420ece85c4af",
   "metadata": {},
   "outputs": [],
   "source": []
  },
  {
   "cell_type": "code",
   "execution_count": null,
   "id": "656a53cb-f05a-42d4-ad93-dc21c9e87f84",
   "metadata": {},
   "outputs": [],
   "source": []
  },
  {
   "cell_type": "code",
   "execution_count": null,
   "id": "884cfb10-19e7-4102-a3d3-1d2e3a3c9eac",
   "metadata": {},
   "outputs": [],
   "source": []
  },
  {
   "cell_type": "code",
   "execution_count": null,
   "id": "34feeacf-ea24-4852-b8e3-54acec461a35",
   "metadata": {},
   "outputs": [],
   "source": []
  },
  {
   "cell_type": "code",
   "execution_count": null,
   "id": "32c2a7bc-a108-4f32-b2fd-e50c504d7b45",
   "metadata": {},
   "outputs": [],
   "source": []
  },
  {
   "cell_type": "code",
   "execution_count": null,
   "id": "f8804ccf-f02b-4d0b-a92a-8a4649ac197d",
   "metadata": {},
   "outputs": [],
   "source": []
  },
  {
   "cell_type": "code",
   "execution_count": null,
   "id": "5b6c439f-b8e0-4388-9e9a-5660282a2a1b",
   "metadata": {},
   "outputs": [],
   "source": []
  },
  {
   "cell_type": "code",
   "execution_count": null,
   "id": "35c3c7ab-6948-46c6-aef7-fcb698788ab9",
   "metadata": {},
   "outputs": [],
   "source": []
  },
  {
   "cell_type": "code",
   "execution_count": null,
   "id": "621e0519-ddc7-49b4-b87b-1e7a4e89fbde",
   "metadata": {},
   "outputs": [],
   "source": []
  },
  {
   "cell_type": "code",
   "execution_count": null,
   "id": "e165b2d6-abc7-4194-882b-6493fed6b2e3",
   "metadata": {},
   "outputs": [],
   "source": []
  },
  {
   "cell_type": "code",
   "execution_count": null,
   "id": "698ca593-3f01-4a8b-bc19-2a314e2813e4",
   "metadata": {},
   "outputs": [],
   "source": []
  },
  {
   "cell_type": "code",
   "execution_count": null,
   "id": "847a57f8-cf30-4c0b-aa31-075d3359d4e7",
   "metadata": {},
   "outputs": [],
   "source": []
  },
  {
   "cell_type": "code",
   "execution_count": null,
   "id": "80e16747-d806-45e4-a765-284df2f5a5da",
   "metadata": {},
   "outputs": [],
   "source": []
  },
  {
   "cell_type": "code",
   "execution_count": null,
   "id": "fffe7bad-43d5-483a-919c-ca096850a510",
   "metadata": {},
   "outputs": [],
   "source": []
  },
  {
   "cell_type": "code",
   "execution_count": null,
   "id": "b590a2a8-5e38-4896-b545-f95560e5a93c",
   "metadata": {},
   "outputs": [],
   "source": []
  },
  {
   "cell_type": "code",
   "execution_count": null,
   "id": "ad81bcc0-a37e-4e0f-a8d7-c388873b9368",
   "metadata": {},
   "outputs": [],
   "source": []
  },
  {
   "cell_type": "code",
   "execution_count": null,
   "id": "ac5a9703-b5b9-4552-bcbd-4dd910582cc7",
   "metadata": {},
   "outputs": [],
   "source": []
  }
 ],
 "metadata": {
  "kernelspec": {
   "display_name": "Python 3 (ipykernel)",
   "language": "python",
   "name": "python3"
  },
  "language_info": {
   "codemirror_mode": {
    "name": "ipython",
    "version": 3
   },
   "file_extension": ".py",
   "mimetype": "text/x-python",
   "name": "python",
   "nbconvert_exporter": "python",
   "pygments_lexer": "ipython3",
   "version": "3.11.4"
  }
 },
 "nbformat": 4,
 "nbformat_minor": 5
}
