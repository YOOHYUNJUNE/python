{
 "cells": [
  {
   "cell_type": "markdown",
   "id": "5c07f169-76ae-4483-a755-2606cfa42595",
   "metadata": {},
   "source": [
    "# 1. 모듈"
   ]
  },
  {
   "cell_type": "code",
   "execution_count": 5,
   "id": "be2e9f79-e3cc-4a9b-9561-5d4bcc37b88e",
   "metadata": {},
   "outputs": [],
   "source": [
    "import fibo"
   ]
  },
  {
   "cell_type": "code",
   "execution_count": 6,
   "id": "c4638c51-93c9-4512-9eb7-2e9cdd1959b7",
   "metadata": {},
   "outputs": [
    {
     "name": "stdout",
     "output_type": "stream",
     "text": [
      "<module 'fibo' from 'C:\\\\Users\\\\rnlay\\\\OneDrive\\\\바탕 화면\\\\camp\\\\python\\\\fibo.py'>\n"
     ]
    }
   ],
   "source": [
    "print(fibo)"
   ]
  },
  {
   "cell_type": "code",
   "execution_count": 7,
   "id": "191f93a7-f55a-4b60-ad0b-0ed1d625a8ac",
   "metadata": {},
   "outputs": [
    {
     "data": {
      "text/plain": [
       "[1, 1, 2, 3, 5]"
      ]
     },
     "execution_count": 7,
     "metadata": {},
     "output_type": "execute_result"
    }
   ],
   "source": [
    "fibo.fib_loop(4)"
   ]
  },
  {
   "cell_type": "code",
   "execution_count": 9,
   "id": "bc2a96a8-9bd1-40b6-96f5-60859fbbd56d",
   "metadata": {},
   "outputs": [
    {
     "data": {
      "text/plain": [
       "3"
      ]
     },
     "execution_count": 9,
     "metadata": {},
     "output_type": "execute_result"
    }
   ],
   "source": [
    "fibo.fib_rec(3)"
   ]
  },
  {
   "cell_type": "markdown",
   "id": "c615470c-8194-4233-99a9-91ba745aa8eb",
   "metadata": {},
   "source": [
    "# 2. 패키지\n",
    "```\n",
    "myPackage/\n",
    "    __init__.py\n",
    "    math/\n",
    "        __init__.py\n",
    "        fibo.py\n",
    "        formula.py\n",
    "```\n",
    "패키지 안에 __init__.py파일이 있어야 패키지로 인식"
   ]
  },
  {
   "cell_type": "code",
   "execution_count": 13,
   "id": "7d8f0d68-483b-4386-aee8-05e635cb5d87",
   "metadata": {},
   "outputs": [],
   "source": [
    "# 패키지 폴더를 전체 추가\n",
    "import myPackage"
   ]
  },
  {
   "cell_type": "code",
   "execution_count": 12,
   "id": "e3b9bad8-120f-4429-8785-ba8afe1be0ad",
   "metadata": {},
   "outputs": [
    {
     "name": "stdout",
     "output_type": "stream",
     "text": [
      "<module 'myPackage' from 'C:\\\\Users\\\\rnlay\\\\OneDrive\\\\바탕 화면\\\\camp\\\\python\\\\myPackage\\\\__init__.py'>\n"
     ]
    }
   ],
   "source": [
    "print(myPackage)"
   ]
  },
  {
   "cell_type": "code",
   "execution_count": 14,
   "id": "0b38eb20-a29d-467c-a599-21f2dd71b92f",
   "metadata": {},
   "outputs": [],
   "source": [
    "# 패키지에서 필요한 모듈을 꺼내오는 코드\n",
    "from myPackage.math import formula"
   ]
  },
  {
   "cell_type": "code",
   "execution_count": 15,
   "id": "c515dff0-a36d-4780-a355-5ff85aeef08b",
   "metadata": {},
   "outputs": [
    {
     "data": {
      "text/plain": [
       "3.14"
      ]
     },
     "execution_count": 15,
     "metadata": {},
     "output_type": "execute_result"
    }
   ],
   "source": [
    "formula.pi"
   ]
  },
  {
   "cell_type": "code",
   "execution_count": 16,
   "id": "0494254a-3629-404c-b7eb-dd2f99c8a1a4",
   "metadata": {},
   "outputs": [
    {
     "data": {
      "text/plain": [
       "2"
      ]
     },
     "execution_count": 16,
     "metadata": {},
     "output_type": "execute_result"
    }
   ],
   "source": [
    "formula.my_max(1, 2)"
   ]
  },
  {
   "cell_type": "code",
   "execution_count": 17,
   "id": "f68a3fa6-4cbf-4ada-b6a9-d52796397007",
   "metadata": {},
   "outputs": [],
   "source": [
    "# 경로에 있는 모듈이 가지고 있는 모든 변수, 함수를 추가\n",
    "from myPackage.math.fibo import *"
   ]
  },
  {
   "cell_type": "code",
   "execution_count": 18,
   "id": "829b70b4-a0ce-41f8-9c5d-ff49769070f9",
   "metadata": {},
   "outputs": [
    {
     "data": {
      "text/plain": [
       "89"
      ]
     },
     "execution_count": 18,
     "metadata": {},
     "output_type": "execute_result"
    }
   ],
   "source": [
    "fib_loop(10)"
   ]
  },
  {
   "cell_type": "code",
   "execution_count": 19,
   "id": "50967b99-56d4-44cf-bdb2-054cde69e85f",
   "metadata": {},
   "outputs": [
    {
     "name": "stdout",
     "output_type": "stream",
     "text": [
      "1234\n",
      "<module 'myPackage.math.formula' from 'C:\\\\Users\\\\rnlay\\\\OneDrive\\\\바탕 화면\\\\camp\\\\python\\\\myPackage\\\\math\\\\formula.py'>\n"
     ]
    }
   ],
   "source": [
    "formula = 1234\n",
    "from myPackage.math import formula as f\n",
    "\n",
    "print(formula)\n",
    "print(f)"
   ]
  },
  {
   "cell_type": "markdown",
   "id": "96786f56-8714-47e2-b36b-fe5d7fba4fac",
   "metadata": {},
   "source": [
    "# 3. 파이썬 내장 패키지"
   ]
  },
  {
   "cell_type": "markdown",
   "id": "f98dd5a8-1e10-4ca6-8e13-cc7b5489857a",
   "metadata": {},
   "source": [
    "3.1 math"
   ]
  },
  {
   "cell_type": "code",
   "execution_count": 20,
   "id": "233bdd72-5cdd-4c1b-a2b5-d19c662cec7e",
   "metadata": {},
   "outputs": [],
   "source": [
    "import math"
   ]
  },
  {
   "cell_type": "code",
   "execution_count": 21,
   "id": "eb31577e-4f14-46cb-8818-25c68e5c840b",
   "metadata": {},
   "outputs": [
    {
     "data": {
      "text/plain": [
       "3.141592653589793"
      ]
     },
     "execution_count": 21,
     "metadata": {},
     "output_type": "execute_result"
    }
   ],
   "source": [
    "math.pi"
   ]
  },
  {
   "cell_type": "code",
   "execution_count": 22,
   "id": "b34a98f1-a794-466b-948e-6982798e7210",
   "metadata": {},
   "outputs": [
    {
     "data": {
      "text/plain": [
       "2.718281828459045"
      ]
     },
     "execution_count": 22,
     "metadata": {},
     "output_type": "execute_result"
    }
   ],
   "source": [
    "math.e"
   ]
  },
  {
   "cell_type": "code",
   "execution_count": 23,
   "id": "fefa5bc8-55e5-4c02-b38c-cb20a4740416",
   "metadata": {},
   "outputs": [],
   "source": [
    "pi = 3.141592"
   ]
  },
  {
   "cell_type": "code",
   "execution_count": 24,
   "id": "0f5ee0fd-a640-4597-ab0d-d6877fb1bfd4",
   "metadata": {},
   "outputs": [
    {
     "data": {
      "text/plain": [
       "4"
      ]
     },
     "execution_count": 24,
     "metadata": {},
     "output_type": "execute_result"
    }
   ],
   "source": [
    "math.ceil(pi)"
   ]
  },
  {
   "cell_type": "code",
   "execution_count": 25,
   "id": "2408853c-294b-48fb-9519-9ef49c46d71a",
   "metadata": {},
   "outputs": [
    {
     "data": {
      "text/plain": [
       "3"
      ]
     },
     "execution_count": 25,
     "metadata": {},
     "output_type": "execute_result"
    }
   ],
   "source": [
    "math.floor(pi)"
   ]
  },
  {
   "cell_type": "code",
   "execution_count": 26,
   "id": "26755e3d-eda9-4e04-ab44-804bb7d51724",
   "metadata": {},
   "outputs": [
    {
     "data": {
      "text/plain": [
       "3.0"
      ]
     },
     "execution_count": 26,
     "metadata": {},
     "output_type": "execute_result"
    }
   ],
   "source": [
    "math.sqrt(9)"
   ]
  },
  {
   "cell_type": "markdown",
   "id": "dcbc5c0f-99f6-42ca-8c7f-fb1c6c699836",
   "metadata": {},
   "source": [
    "# 3.2 random"
   ]
  },
  {
   "cell_type": "code",
   "execution_count": 27,
   "id": "ff67bd1e-b018-42fa-ac7e-a68c54adbfc5",
   "metadata": {},
   "outputs": [],
   "source": [
    "import random"
   ]
  },
  {
   "cell_type": "code",
   "execution_count": 35,
   "id": "9f6018b9-7b51-4f28-b1ab-1793f6de7baf",
   "metadata": {},
   "outputs": [
    {
     "data": {
      "text/plain": [
       "0.9325209388659037"
      ]
     },
     "execution_count": 35,
     "metadata": {},
     "output_type": "execute_result"
    }
   ],
   "source": [
    "random.random()"
   ]
  },
  {
   "cell_type": "code",
   "execution_count": 36,
   "id": "3121f588-3e75-41ff-8b5f-b2cdc134c190",
   "metadata": {},
   "outputs": [
    {
     "data": {
      "text/plain": [
       "3"
      ]
     },
     "execution_count": 36,
     "metadata": {},
     "output_type": "execute_result"
    }
   ],
   "source": [
    "random.randint(1, 10)"
   ]
  },
  {
   "cell_type": "code",
   "execution_count": 37,
   "id": "857c750b-887b-4ae9-bc5b-37d1c9c2bc4d",
   "metadata": {},
   "outputs": [
    {
     "name": "stdout",
     "output_type": "stream",
     "text": [
      "[3, 4, 5, 1, 2]\n"
     ]
    }
   ],
   "source": [
    "# seed\n",
    "a = [1, 2, 3, 4, 5]\n",
    "random.shuffle(a)\n",
    "print(a)"
   ]
  },
  {
   "cell_type": "code",
   "execution_count": 38,
   "id": "82257774-d64e-4d80-bfb6-39031cd2a428",
   "metadata": {},
   "outputs": [
    {
     "name": "stdout",
     "output_type": "stream",
     "text": [
      "바위\n"
     ]
    }
   ],
   "source": [
    "# choice\n",
    "a = ['가위', '바위', '보']\n",
    "print(random.choice(a))"
   ]
  },
  {
   "cell_type": "code",
   "execution_count": 39,
   "id": "b8399d13-41c7-471d-b2fb-6f7cefa7ad4a",
   "metadata": {},
   "outputs": [
    {
     "data": {
      "text/plain": [
       "[41, 36, 17, 28, 13, 27]"
      ]
     },
     "execution_count": 39,
     "metadata": {},
     "output_type": "execute_result"
    }
   ],
   "source": [
    "# sample\n",
    "a = range(1, 46)\n",
    "random.sample(a, 6)"
   ]
  },
  {
   "cell_type": "markdown",
   "id": "c09960a1-ad41-47ee-a0c2-89b58f1528d7",
   "metadata": {},
   "source": [
    "# 3.3 datetime"
   ]
  },
  {
   "cell_type": "code",
   "execution_count": 40,
   "id": "a929080e-c97f-45c3-b227-216c531948ed",
   "metadata": {},
   "outputs": [],
   "source": [
    "from datetime import datetime"
   ]
  },
  {
   "cell_type": "code",
   "execution_count": 41,
   "id": "c566b50f-a58c-4941-9759-7567606e2e67",
   "metadata": {},
   "outputs": [
    {
     "name": "stdout",
     "output_type": "stream",
     "text": [
      "2023-07-31 17:10:59.322300\n"
     ]
    }
   ],
   "source": [
    "now = datetime.now()\n",
    "print(now)"
   ]
  },
  {
   "cell_type": "code",
   "execution_count": 42,
   "id": "613c36e9-0dbe-41cb-b102-c46acec524e3",
   "metadata": {},
   "outputs": [
    {
     "name": "stdout",
     "output_type": "stream",
     "text": [
      "2023-07-31 17:11:23.112209\n"
     ]
    }
   ],
   "source": [
    "today = datetime.today()\n",
    "print(today)"
   ]
  },
  {
   "cell_type": "code",
   "execution_count": 43,
   "id": "651a2081-3b99-4c81-8d55-be69b309837a",
   "metadata": {},
   "outputs": [
    {
     "name": "stdout",
     "output_type": "stream",
     "text": [
      "2023-07-31 08:11:42.591829\n"
     ]
    }
   ],
   "source": [
    "utc = datetime.utcnow()\n",
    "print(utc)"
   ]
  },
  {
   "cell_type": "code",
   "execution_count": 44,
   "id": "6862afc2-05a4-4c2f-a5e2-30caadcc13cb",
   "metadata": {},
   "outputs": [
    {
     "data": {
      "text/plain": [
       "'2023/10/31'"
      ]
     },
     "execution_count": 44,
     "metadata": {},
     "output_type": "execute_result"
    }
   ],
   "source": [
    "now.strftime('%Y/%M/%d')"
   ]
  },
  {
   "cell_type": "code",
   "execution_count": 45,
   "id": "02f20a07-8bda-426f-968f-f00364b1d65c",
   "metadata": {},
   "outputs": [
    {
     "data": {
      "text/plain": [
       "2023"
      ]
     },
     "execution_count": 45,
     "metadata": {},
     "output_type": "execute_result"
    }
   ],
   "source": [
    "now.year"
   ]
  },
  {
   "cell_type": "code",
   "execution_count": 46,
   "id": "70a926f7-bd96-4c90-90c8-ead0530bffe2",
   "metadata": {},
   "outputs": [
    {
     "data": {
      "text/plain": [
       "31"
      ]
     },
     "execution_count": 46,
     "metadata": {},
     "output_type": "execute_result"
    }
   ],
   "source": [
    "now.day"
   ]
  },
  {
   "cell_type": "code",
   "execution_count": 47,
   "id": "33835889-cebf-4a0d-b2d7-10c2909a532a",
   "metadata": {},
   "outputs": [
    {
     "data": {
      "text/plain": [
       "0"
      ]
     },
     "execution_count": 47,
     "metadata": {},
     "output_type": "execute_result"
    }
   ],
   "source": [
    "# weekday 0~6, 월~일\n",
    "now.weekday()"
   ]
  },
  {
   "cell_type": "code",
   "execution_count": 48,
   "id": "9923c503-5c95-428f-b851-c3e5ae008e46",
   "metadata": {},
   "outputs": [
    {
     "name": "stdout",
     "output_type": "stream",
     "text": [
      "2023-01-01 00:00:00\n"
     ]
    }
   ],
   "source": [
    "birth = datetime(2023, 1, 1)\n",
    "print(birth)"
   ]
  },
  {
   "cell_type": "code",
   "execution_count": 49,
   "id": "42cef6bf-565b-435a-9fe5-8ca2130fa47d",
   "metadata": {},
   "outputs": [],
   "source": [
    "from datetime import timedelta"
   ]
  },
  {
   "cell_type": "code",
   "execution_count": 50,
   "id": "a71b83ff-d94f-4833-b63c-c8467a88e260",
   "metadata": {},
   "outputs": [
    {
     "name": "stdout",
     "output_type": "stream",
     "text": [
      "3 days, 0:00:00\n"
     ]
    }
   ],
   "source": [
    "future = timedelta(days = 3)\n",
    "print(future)"
   ]
  },
  {
   "cell_type": "code",
   "execution_count": 51,
   "id": "8f5855e6-4ecc-4523-b5c9-d9d869f6bf95",
   "metadata": {},
   "outputs": [
    {
     "data": {
      "text/plain": [
       "datetime.datetime(2023, 1, 4, 0, 0)"
      ]
     },
     "execution_count": 51,
     "metadata": {},
     "output_type": "execute_result"
    }
   ],
   "source": [
    "birth + future"
   ]
  },
  {
   "cell_type": "code",
   "execution_count": 52,
   "id": "e2a5da27-a100-48b6-be1a-c77e968c6278",
   "metadata": {},
   "outputs": [],
   "source": [
    "christmas = datetime(2023, 12, 25)"
   ]
  },
  {
   "cell_type": "code",
   "execution_count": 53,
   "id": "76856662-00d1-4136-95e1-d895f5b32e55",
   "metadata": {},
   "outputs": [
    {
     "data": {
      "text/plain": [
       "datetime.timedelta(days=146, seconds=24540, microseconds=677700)"
      ]
     },
     "execution_count": 53,
     "metadata": {},
     "output_type": "execute_result"
    }
   ],
   "source": [
    "christmas - now"
   ]
  },
  {
   "cell_type": "code",
   "execution_count": null,
   "id": "c18423aa-9048-4818-9397-0531f113dd7a",
   "metadata": {},
   "outputs": [],
   "source": []
  }
 ],
 "metadata": {
  "kernelspec": {
   "display_name": "Python 3 (ipykernel)",
   "language": "python",
   "name": "python3"
  },
  "language_info": {
   "codemirror_mode": {
    "name": "ipython",
    "version": 3
   },
   "file_extension": ".py",
   "mimetype": "text/x-python",
   "name": "python",
   "nbconvert_exporter": "python",
   "pygments_lexer": "ipython3",
   "version": "3.11.4"
  }
 },
 "nbformat": 4,
 "nbformat_minor": 5
}
